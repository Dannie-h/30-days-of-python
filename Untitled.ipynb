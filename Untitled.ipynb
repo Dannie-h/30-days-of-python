{
 "cells": [
  {
   "cell_type": "code",
   "execution_count": 2,
   "id": "8e539889",
   "metadata": {},
   "outputs": [],
   "source": [
    "first_name = 'Miku'\n",
    "last_name = 'Piku'\n",
    "country = 'UK'\n",
    "city = 'Bournemouth'\n",
    "age = 2\n",
    "is_married= False\n",
    "skills = ['playsies','snakies','runnies']\n",
    "personal_info = {\n",
    "    'firstname':'Miku',\n",
    "    'lastname':'Piku',\n",
    "    'country':'UK',\n",
    "    'city':'Bournemouth'\n",
    "}"
   ]
  },
  {
   "cell_type": "code",
   "execution_count": 4,
   "id": "115074e1",
   "metadata": {},
   "outputs": [
    {
     "name": "stdout",
     "output_type": "stream",
     "text": [
      "First name: Miku\n",
      "First name length: 4\n",
      "Last name: Piku\n",
      "Last name length: 4\n",
      "County: UK\n",
      "City: Bournemouth\n",
      "Age: 2\n",
      "Married: False\n",
      "Skills: ['playsies', 'snakies', 'runnies']\n",
      "Person information: {'firstname': 'Miku', 'lastname': 'Piku', 'country': 'UK', 'city': 'Bournemouth'}\n"
     ]
    }
   ],
   "source": [
    "print('First name:', first_name)\n",
    "print('First name length:', len(first_name))\n",
    "print('Last name:', last_name)\n",
    "print('Last name length:', len(last_name))\n",
    "print('County:', country)\n",
    "print('City:', city)\n",
    "print('Age:', age)\n",
    "print('Married:', is_married)\n",
    "print('Skills:', skills)\n",
    "print('Person information:', personal_info)\n",
    "\n"
   ]
  },
  {
   "cell_type": "code",
   "execution_count": 1,
   "id": "44817edd",
   "metadata": {},
   "outputs": [],
   "source": [
    "challenge = 'thirty days of python'\n",
    "sub_string = 'da'"
   ]
  },
  {
   "cell_type": "code",
   "execution_count": 3,
   "id": "786988ed",
   "metadata": {},
   "outputs": [
    {
     "name": "stdout",
     "output_type": "stream",
     "text": [
      "7\n"
     ]
    }
   ],
   "source": [
    "print(challenge.rindex(sub_string))"
   ]
  },
  {
   "cell_type": "code",
   "execution_count": null,
   "id": "55d9f791",
   "metadata": {},
   "outputs": [],
   "source": []
  }
 ],
 "metadata": {
  "kernelspec": {
   "display_name": "Python 3 (ipykernel)",
   "language": "python",
   "name": "python3"
  },
  "language_info": {
   "codemirror_mode": {
    "name": "ipython",
    "version": 3
   },
   "file_extension": ".py",
   "mimetype": "text/x-python",
   "name": "python",
   "nbconvert_exporter": "python",
   "pygments_lexer": "ipython3",
   "version": "3.10.9"
  }
 },
 "nbformat": 4,
 "nbformat_minor": 5
}
