{
 "cells": [
  {
   "cell_type": "code",
   "execution_count": 1,
   "id": "31ebe79f",
   "metadata": {},
   "outputs": [
    {
     "name": "stdout",
     "output_type": "stream",
     "text": [
      "Hello, World!\n"
     ]
    }
   ],
   "source": [
    "print('Hello, World!')"
   ]
  },
  {
   "cell_type": "code",
   "execution_count": 2,
   "id": "59ec79f0",
   "metadata": {},
   "outputs": [
    {
     "data": {
      "text/plain": [
       "13"
      ]
     },
     "execution_count": 2,
     "metadata": {},
     "output_type": "execute_result"
    }
   ],
   "source": [
    "len('Hello, World!')"
   ]
  },
  {
   "cell_type": "code",
   "execution_count": 3,
   "id": "99e80d4b",
   "metadata": {},
   "outputs": [
    {
     "data": {
      "text/plain": [
       "str"
      ]
     },
     "execution_count": 3,
     "metadata": {},
     "output_type": "execute_result"
    }
   ],
   "source": [
    "type('Hello, World!')"
   ]
  },
  {
   "cell_type": "code",
   "execution_count": 4,
   "id": "9e1043b0",
   "metadata": {},
   "outputs": [
    {
     "data": {
      "text/plain": [
       "'10'"
      ]
     },
     "execution_count": 4,
     "metadata": {},
     "output_type": "execute_result"
    }
   ],
   "source": [
    "str(10) # converts numbers into strings = casting"
   ]
  },
  {
   "cell_type": "code",
   "execution_count": 5,
   "id": "2c0c6114",
   "metadata": {},
   "outputs": [
    {
     "data": {
      "text/plain": [
       "10"
      ]
     },
     "execution_count": 5,
     "metadata": {},
     "output_type": "execute_result"
    }
   ],
   "source": [
    "int('10') #converts strings into numbers"
   ]
  },
  {
   "cell_type": "code",
   "execution_count": 6,
   "id": "d0ea1f18",
   "metadata": {},
   "outputs": [
    {
     "data": {
      "text/plain": [
       "10.0"
      ]
     },
     "execution_count": 6,
     "metadata": {},
     "output_type": "execute_result"
    }
   ],
   "source": [
    "float(10) # converts integers into decimals"
   ]
  },
  {
   "cell_type": "code",
   "execution_count": 7,
   "id": "ccbeebd0",
   "metadata": {},
   "outputs": [
    {
     "name": "stdout",
     "output_type": "stream",
     "text": [
      "Enter your name:Dannie\n"
     ]
    },
    {
     "data": {
      "text/plain": [
       "'Dannie'"
      ]
     },
     "execution_count": 7,
     "metadata": {},
     "output_type": "execute_result"
    }
   ],
   "source": [
    "input('Enter your name:')"
   ]
  },
  {
   "cell_type": "code",
   "execution_count": 9,
   "id": "3f4df9e1",
   "metadata": {},
   "outputs": [
    {
     "name": "stdout",
     "output_type": "stream",
     "text": [
      "Enter your name:Dannie\n",
      "Hello Dannie\n"
     ]
    }
   ],
   "source": [
    "name = input('Enter your name:')\n",
    "print(f'Hello {name}')"
   ]
  },
  {
   "cell_type": "code",
   "execution_count": 11,
   "id": "e88aea97",
   "metadata": {},
   "outputs": [
    {
     "name": "stdout",
     "output_type": "stream",
     "text": [
      "\n",
      "Here is a list of the Python keywords.  Enter any keyword to get more help.\n",
      "\n",
      "False               class               from                or\n",
      "None                continue            global              pass\n",
      "True                def                 if                  raise\n",
      "and                 del                 import              return\n",
      "as                  elif                in                  try\n",
      "assert              else                is                  while\n",
      "async               except              lambda              with\n",
      "await               finally             nonlocal            yield\n",
      "break               for                 not                 \n",
      "\n"
     ]
    }
   ],
   "source": [
    "help('keywords')"
   ]
  },
  {
   "cell_type": "code",
   "execution_count": 13,
   "id": "673b3dfd",
   "metadata": {},
   "outputs": [
    {
     "name": "stdout",
     "output_type": "stream",
     "text": [
      "Coroutines\n",
      "**********\n",
      "\n",
      "New in version 3.5.\n",
      "\n",
      "\n",
      "Coroutine function definition\n",
      "=============================\n",
      "\n",
      "   async_funcdef ::= [decorators] \"async\" \"def\" funcname \"(\" [parameter_list] \")\"\n",
      "                     [\"->\" expression] \":\" suite\n",
      "\n",
      "Execution of Python coroutines can be suspended and resumed at many\n",
      "points (see *coroutine*). \"await\" expressions, \"async for\" and \"async\n",
      "with\" can only be used in the body of a coroutine function.\n",
      "\n",
      "Functions defined with \"async def\" syntax are always coroutine\n",
      "functions, even if they do not contain \"await\" or \"async\" keywords.\n",
      "\n",
      "It is a \"SyntaxError\" to use a \"yield from\" expression inside the body\n",
      "of a coroutine function.\n",
      "\n",
      "An example of a coroutine function:\n",
      "\n",
      "   async def func(param1, param2):\n",
      "       do_stuff()\n",
      "       await some_coroutine()\n",
      "\n",
      "Changed in version 3.7: \"await\" and \"async\" are now keywords;\n",
      "previously they were only treated as such inside the body of a\n",
      "coroutine function.\n",
      "\n",
      "\n",
      "The \"async for\" statement\n",
      "=========================\n",
      "\n",
      "   async_for_stmt ::= \"async\" for_stmt\n",
      "\n",
      "An *asynchronous iterable* provides an \"__aiter__\" method that\n",
      "directly returns an *asynchronous iterator*, which can call\n",
      "asynchronous code in its \"__anext__\" method.\n",
      "\n",
      "The \"async for\" statement allows convenient iteration over\n",
      "asynchronous iterables.\n",
      "\n",
      "The following code:\n",
      "\n",
      "   async for TARGET in ITER:\n",
      "       SUITE\n",
      "   else:\n",
      "       SUITE2\n",
      "\n",
      "Is semantically equivalent to:\n",
      "\n",
      "   iter = (ITER)\n",
      "   iter = type(iter).__aiter__(iter)\n",
      "   running = True\n",
      "\n",
      "   while running:\n",
      "       try:\n",
      "           TARGET = await type(iter).__anext__(iter)\n",
      "       except StopAsyncIteration:\n",
      "           running = False\n",
      "       else:\n",
      "           SUITE\n",
      "   else:\n",
      "       SUITE2\n",
      "\n",
      "See also \"__aiter__()\" and \"__anext__()\" for details.\n",
      "\n",
      "It is a \"SyntaxError\" to use an \"async for\" statement outside the body\n",
      "of a coroutine function.\n",
      "\n",
      "\n",
      "The \"async with\" statement\n",
      "==========================\n",
      "\n",
      "   async_with_stmt ::= \"async\" with_stmt\n",
      "\n",
      "An *asynchronous context manager* is a *context manager* that is able\n",
      "to suspend execution in its *enter* and *exit* methods.\n",
      "\n",
      "The following code:\n",
      "\n",
      "   async with EXPRESSION as TARGET:\n",
      "       SUITE\n",
      "\n",
      "is semantically equivalent to:\n",
      "\n",
      "   manager = (EXPRESSION)\n",
      "   aenter = type(manager).__aenter__\n",
      "   aexit = type(manager).__aexit__\n",
      "   value = await aenter(manager)\n",
      "   hit_except = False\n",
      "\n",
      "   try:\n",
      "       TARGET = value\n",
      "       SUITE\n",
      "   except:\n",
      "       hit_except = True\n",
      "       if not await aexit(manager, *sys.exc_info()):\n",
      "           raise\n",
      "   finally:\n",
      "       if not hit_except:\n",
      "           await aexit(manager, None, None, None)\n",
      "\n",
      "See also \"__aenter__()\" and \"__aexit__()\" for details.\n",
      "\n",
      "It is a \"SyntaxError\" to use an \"async with\" statement outside the\n",
      "body of a coroutine function.\n",
      "\n",
      "See also:\n",
      "\n",
      "  **PEP 492** - Coroutines with async and await syntax\n",
      "     The proposal that made coroutines a proper standalone concept in\n",
      "     Python, and added supporting syntax.\n",
      "\n",
      "-[ Footnotes ]-\n",
      "\n",
      "[1] The exception is propagated to the invocation stack unless there\n",
      "    is a \"finally\" clause which happens to raise another exception.\n",
      "    That new exception causes the old one to be lost.\n",
      "\n",
      "[2] In pattern matching, a sequence is defined as one of the\n",
      "    following:\n",
      "\n",
      "       * a class that inherits from \"collections.abc.Sequence\"\n",
      "\n",
      "       * a Python class that has been registered as\n",
      "         \"collections.abc.Sequence\"\n",
      "\n",
      "       * a builtin class that has its (CPython) \"Py_TPFLAGS_SEQUENCE\"\n",
      "         bit set\n",
      "\n",
      "       * a class that inherits from any of the above\n",
      "\n",
      "    The following standard library classes are sequences:\n",
      "\n",
      "       * \"array.array\"\n",
      "\n",
      "       * \"collections.deque\"\n",
      "\n",
      "       * \"list\"\n",
      "\n",
      "       * \"memoryview\"\n",
      "\n",
      "       * \"range\"\n",
      "\n",
      "       * \"tuple\"\n",
      "\n",
      "    Note:\n",
      "\n",
      "      Subject values of type \"str\", \"bytes\", and \"bytearray\" do not\n",
      "      match sequence patterns.\n",
      "\n",
      "[3] In pattern matching, a mapping is defined as one of the following:\n",
      "\n",
      "       * a class that inherits from \"collections.abc.Mapping\"\n",
      "\n",
      "       * a Python class that has been registered as\n",
      "         \"collections.abc.Mapping\"\n",
      "\n",
      "       * a builtin class that has its (CPython) \"Py_TPFLAGS_MAPPING\"\n",
      "         bit set\n",
      "\n",
      "       * a class that inherits from any of the above\n",
      "\n",
      "    The standard library classes \"dict\" and \"types.MappingProxyType\"\n",
      "    are mappings.\n",
      "\n",
      "[4] A string literal appearing as the first statement in the function\n",
      "    body is transformed into the function’s \"__doc__\" attribute and\n",
      "    therefore the function’s *docstring*.\n",
      "\n",
      "[5] A string literal appearing as the first statement in the class\n",
      "    body is transformed into the namespace’s \"__doc__\" item and\n",
      "    therefore the class’s *docstring*.\n",
      "\n"
     ]
    }
   ],
   "source": [
    "help('async')"
   ]
  },
  {
   "cell_type": "code",
   "execution_count": 14,
   "id": "61d22ca0",
   "metadata": {},
   "outputs": [
    {
     "data": {
      "text/plain": [
       "20"
      ]
     },
     "execution_count": 14,
     "metadata": {},
     "output_type": "execute_result"
    }
   ],
   "source": [
    "min(20, 30, 40,50)"
   ]
  },
  {
   "cell_type": "code",
   "execution_count": 15,
   "id": "7cfa587b",
   "metadata": {},
   "outputs": [
    {
     "data": {
      "text/plain": [
       "50"
      ]
     },
     "execution_count": 15,
     "metadata": {},
     "output_type": "execute_result"
    }
   ],
   "source": [
    "max(20, 30, 40, 50)"
   ]
  },
  {
   "cell_type": "code",
   "execution_count": 17,
   "id": "f6d03450",
   "metadata": {},
   "outputs": [
    {
     "data": {
      "text/plain": [
       "20"
      ]
     },
     "execution_count": 17,
     "metadata": {},
     "output_type": "execute_result"
    }
   ],
   "source": [
    "min([20, 30, 40, 50])"
   ]
  },
  {
   "cell_type": "code",
   "execution_count": 18,
   "id": "6c1e3246",
   "metadata": {},
   "outputs": [
    {
     "data": {
      "text/plain": [
       "50"
      ]
     },
     "execution_count": 18,
     "metadata": {},
     "output_type": "execute_result"
    }
   ],
   "source": [
    "max([20, 30, 40, 50])"
   ]
  },
  {
   "cell_type": "code",
   "execution_count": 22,
   "id": "1cba1101",
   "metadata": {},
   "outputs": [
    {
     "data": {
      "text/plain": [
       "5"
      ]
     },
     "execution_count": 22,
     "metadata": {},
     "output_type": "execute_result"
    }
   ],
   "source": [
    "sum((2, 3))"
   ]
  },
  {
   "cell_type": "code",
   "execution_count": 23,
   "id": "20c8856e",
   "metadata": {},
   "outputs": [
    {
     "data": {
      "text/plain": [
       "14"
      ]
     },
     "execution_count": 23,
     "metadata": {},
     "output_type": "execute_result"
    }
   ],
   "source": [
    "sum([2,3,4,5])"
   ]
  },
  {
   "cell_type": "code",
   "execution_count": 24,
   "id": "fcfdc106",
   "metadata": {},
   "outputs": [
    {
     "data": {
      "text/plain": [
       "10"
      ]
     },
     "execution_count": 24,
     "metadata": {},
     "output_type": "execute_result"
    }
   ],
   "source": [
    "sum((1,2,3,4))"
   ]
  },
  {
   "cell_type": "code",
   "execution_count": 42,
   "id": "e41e5fe4",
   "metadata": {},
   "outputs": [],
   "source": [
    "first_name = 'Miku'\n",
    "last_name = 'Pikus'\n",
    "country = 'UK'\n",
    "city  = 'Bounemouth'\n",
    "age = 2\n",
    "    "
   ]
  },
  {
   "cell_type": "code",
   "execution_count": 26,
   "id": "7c94972c",
   "metadata": {},
   "outputs": [
    {
     "name": "stdout",
     "output_type": "stream",
     "text": [
      "<class 'str'>\n"
     ]
    }
   ],
   "source": [
    "print(type('Miku'))"
   ]
  },
  {
   "cell_type": "code",
   "execution_count": 27,
   "id": "df79cb35",
   "metadata": {},
   "outputs": [
    {
     "name": "stdout",
     "output_type": "stream",
     "text": [
      "<class 'str'>\n"
     ]
    }
   ],
   "source": [
    "print(type('Piku'))"
   ]
  },
  {
   "cell_type": "code",
   "execution_count": 28,
   "id": "aed5fbae",
   "metadata": {},
   "outputs": [
    {
     "name": "stdout",
     "output_type": "stream",
     "text": [
      "<class 'str'>\n"
     ]
    }
   ],
   "source": [
    "print(type(last_name))"
   ]
  },
  {
   "cell_type": "code",
   "execution_count": 29,
   "id": "75ee03a4",
   "metadata": {},
   "outputs": [
    {
     "name": "stdout",
     "output_type": "stream",
     "text": [
      "<class 'int'>\n"
     ]
    }
   ],
   "source": [
    "print(type(age))"
   ]
  },
  {
   "cell_type": "code",
   "execution_count": 34,
   "id": "bbf1acbd",
   "metadata": {},
   "outputs": [],
   "source": [
    "name, nickname, status = 'Miku', 'Piku', 'Stinku'"
   ]
  },
  {
   "cell_type": "code",
   "execution_count": 31,
   "id": "a51ca381",
   "metadata": {},
   "outputs": [
    {
     "name": "stdout",
     "output_type": "stream",
     "text": [
      "Miku\n"
     ]
    }
   ],
   "source": [
    "print(name)"
   ]
  },
  {
   "cell_type": "code",
   "execution_count": 32,
   "id": "c4b2d550",
   "metadata": {},
   "outputs": [
    {
     "name": "stdout",
     "output_type": "stream",
     "text": [
      "Piku\n"
     ]
    }
   ],
   "source": [
    "print(nickname)"
   ]
  },
  {
   "cell_type": "code",
   "execution_count": 35,
   "id": "06d8f0db",
   "metadata": {},
   "outputs": [
    {
     "name": "stdout",
     "output_type": "stream",
     "text": [
      "MikuPikuStinku\n"
     ]
    }
   ],
   "source": [
    "print(name + nickname + status)"
   ]
  },
  {
   "cell_type": "code",
   "execution_count": 36,
   "id": "5add6333",
   "metadata": {},
   "outputs": [
    {
     "name": "stdout",
     "output_type": "stream",
     "text": [
      "Miku Piku Stinku\n"
     ]
    }
   ],
   "source": [
    "print(name + ' ' + nickname + ' ' + status)"
   ]
  },
  {
   "cell_type": "code",
   "execution_count": 38,
   "id": "6dc86bbc",
   "metadata": {},
   "outputs": [
    {
     "data": {
      "text/plain": [
       "4"
      ]
     },
     "execution_count": 38,
     "metadata": {},
     "output_type": "execute_result"
    }
   ],
   "source": [
    "len(first_name)"
   ]
  },
  {
   "cell_type": "code",
   "execution_count": 43,
   "id": "62b853fe",
   "metadata": {},
   "outputs": [
    {
     "data": {
      "text/plain": [
       "4"
      ]
     },
     "execution_count": 43,
     "metadata": {},
     "output_type": "execute_result"
    }
   ],
   "source": [
    "min(len(first_name),len(last_name))"
   ]
  },
  {
   "cell_type": "code",
   "execution_count": 44,
   "id": "ac7efaed",
   "metadata": {},
   "outputs": [
    {
     "data": {
      "text/plain": [
       "5"
      ]
     },
     "execution_count": 44,
     "metadata": {},
     "output_type": "execute_result"
    }
   ],
   "source": [
    "max(len(first_name),len(last_name))"
   ]
  },
  {
   "cell_type": "code",
   "execution_count": 45,
   "id": "94cdf1cf",
   "metadata": {},
   "outputs": [
    {
     "data": {
      "text/plain": [
       "False"
      ]
     },
     "execution_count": 45,
     "metadata": {},
     "output_type": "execute_result"
    }
   ],
   "source": [
    "first_name > last_name"
   ]
  },
  {
   "cell_type": "code",
   "execution_count": 46,
   "id": "11825987",
   "metadata": {},
   "outputs": [
    {
     "data": {
      "text/plain": [
       "True"
      ]
     },
     "execution_count": 46,
     "metadata": {},
     "output_type": "execute_result"
    }
   ],
   "source": [
    "last_name > first_name"
   ]
  },
  {
   "cell_type": "code",
   "execution_count": 47,
   "id": "2f2965d6",
   "metadata": {},
   "outputs": [],
   "source": [
    "num_one = 5\n",
    "num_two = 4"
   ]
  },
  {
   "cell_type": "code",
   "execution_count": 48,
   "id": "31fedc0d",
   "metadata": {},
   "outputs": [],
   "source": [
    "total = num_one + num_two"
   ]
  },
  {
   "cell_type": "code",
   "execution_count": 49,
   "id": "cd1d0a32",
   "metadata": {},
   "outputs": [
    {
     "name": "stdout",
     "output_type": "stream",
     "text": [
      "9\n"
     ]
    }
   ],
   "source": [
    "print(total)"
   ]
  },
  {
   "cell_type": "code",
   "execution_count": 50,
   "id": "759385f0",
   "metadata": {},
   "outputs": [
    {
     "name": "stdout",
     "output_type": "stream",
     "text": [
      "-1\n"
     ]
    }
   ],
   "source": [
    "diff = num_two - num_one\n",
    "print(diff)"
   ]
  },
  {
   "cell_type": "code",
   "execution_count": 51,
   "id": "a3f230bd",
   "metadata": {},
   "outputs": [
    {
     "name": "stdout",
     "output_type": "stream",
     "text": [
      "20\n"
     ]
    }
   ],
   "source": [
    "product = num_one * num_two\n",
    "print(product)"
   ]
  },
  {
   "cell_type": "code",
   "execution_count": 52,
   "id": "150b988f",
   "metadata": {},
   "outputs": [
    {
     "name": "stdout",
     "output_type": "stream",
     "text": [
      "0.8\n"
     ]
    }
   ],
   "source": [
    "division = num_two / num_one\n",
    "print(division)"
   ]
  },
  {
   "cell_type": "code",
   "execution_count": 53,
   "id": "baeec1e6",
   "metadata": {},
   "outputs": [
    {
     "name": "stdout",
     "output_type": "stream",
     "text": [
      "4\n"
     ]
    }
   ],
   "source": [
    "remainder = num_two % num_one\n",
    "print(remainder)"
   ]
  },
  {
   "cell_type": "code",
   "execution_count": 54,
   "id": "d58debfd",
   "metadata": {},
   "outputs": [
    {
     "name": "stdout",
     "output_type": "stream",
     "text": [
      "625\n"
     ]
    }
   ],
   "source": [
    "exp = num_one ** num_two\n",
    "print(exp)"
   ]
  },
  {
   "cell_type": "code",
   "execution_count": 55,
   "id": "a35cb4db",
   "metadata": {},
   "outputs": [
    {
     "name": "stdout",
     "output_type": "stream",
     "text": [
      "1\n"
     ]
    }
   ],
   "source": [
    "floor_division = num_one // num_two\n",
    "print(floor_division)"
   ]
  },
  {
   "cell_type": "code",
   "execution_count": 56,
   "id": "98321928",
   "metadata": {},
   "outputs": [],
   "source": [
    "radius = 30"
   ]
  },
  {
   "cell_type": "code",
   "execution_count": 59,
   "id": "e164a106",
   "metadata": {},
   "outputs": [],
   "source": [
    "area_of_circle = 3.14 * radius ** 2"
   ]
  },
  {
   "cell_type": "code",
   "execution_count": 58,
   "id": "773d70b7",
   "metadata": {},
   "outputs": [
    {
     "name": "stdout",
     "output_type": "stream",
     "text": [
      "2826.0\n"
     ]
    }
   ],
   "source": [
    "print(area_of_circle)"
   ]
  },
  {
   "cell_type": "code",
   "execution_count": 60,
   "id": "a42c038d",
   "metadata": {},
   "outputs": [],
   "source": [
    "import math"
   ]
  },
  {
   "cell_type": "code",
   "execution_count": 61,
   "id": "3b6b5d38",
   "metadata": {},
   "outputs": [
    {
     "name": "stdout",
     "output_type": "stream",
     "text": [
      "2827.4333882308138\n"
     ]
    }
   ],
   "source": [
    "area_of_circle_math = math.pi * radius ** 2\n",
    "print(area_of_circle_math)"
   ]
  },
  {
   "cell_type": "code",
   "execution_count": 62,
   "id": "05c097dd",
   "metadata": {},
   "outputs": [
    {
     "name": "stdout",
     "output_type": "stream",
     "text": [
      "188.49555921538757\n"
     ]
    }
   ],
   "source": [
    "circum_of_circle = 2* math.pi * radius \n",
    "print(circum_of_circle)"
   ]
  },
  {
   "cell_type": "code",
   "execution_count": 64,
   "id": "3019908b",
   "metadata": {},
   "outputs": [
    {
     "name": "stdout",
     "output_type": "stream",
     "text": [
      "The radius of the circle is: 2\n",
      "2827.4333882308138\n",
      "188.49555921538757\n"
     ]
    }
   ],
   "source": [
    "new_radius = input('The radius of the circle is: ')\n",
    "print(area_of_circle_math)\n",
    "print(circum_of_circle)"
   ]
  },
  {
   "cell_type": "code",
   "execution_count": 74,
   "id": "43ab9e05",
   "metadata": {},
   "outputs": [
    {
     "name": "stdout",
     "output_type": "stream",
     "text": [
      "The radius of the circle is: 40\n",
      "1256.6370614359173\n",
      "125.66370614359172\n"
     ]
    }
   ],
   "source": [
    "new_radius = float(input('The radius of the circle is: '))\n",
    "print(area_of_circle_math)\n",
    "print(circum_of_circle)"
   ]
  },
  {
   "cell_type": "code",
   "execution_count": 71,
   "id": "a21c79b7",
   "metadata": {},
   "outputs": [
    {
     "name": "stdout",
     "output_type": "stream",
     "text": [
      "The radius of the circle is: 50\n",
      "2827.4333882308138\n",
      "188.49555921538757\n"
     ]
    }
   ],
   "source": [
    "radius = input('The radius of the circle is: ')\n",
    "print(area_of_circle_math)\n",
    "print(circum_of_circle)"
   ]
  },
  {
   "cell_type": "code",
   "execution_count": 73,
   "id": "757e5061",
   "metadata": {},
   "outputs": [
    {
     "name": "stdout",
     "output_type": "stream",
     "text": [
      "The radius of the circle is: 20\n",
      "1256.6370614359173\n",
      "125.66370614359172\n"
     ]
    }
   ],
   "source": [
    "radius = float(input('The radius of the circle is: '))\n",
    "area_of_circle_math = math.pi * radius ** 2\n",
    "print(area_of_circle_math)\n",
    "circum_of_circle = 2* math.pi * radius \n",
    "print(circum_of_circle)"
   ]
  },
  {
   "cell_type": "code",
   "execution_count": 1,
   "id": "469ec410",
   "metadata": {},
   "outputs": [],
   "source": [
    "# problmes: input takes in a string and I'm trying to multiply it --> needs casting to a float\n",
    "# the math doesn't work properly because or the order the variables were assigned\n",
    "# restart:"
   ]
  },
  {
   "cell_type": "code",
   "execution_count": 2,
   "id": "7f4113c6",
   "metadata": {},
   "outputs": [],
   "source": [
    "import math"
   ]
  },
  {
   "cell_type": "code",
   "execution_count": 5,
   "id": "ae71ef02",
   "metadata": {},
   "outputs": [
    {
     "name": "stdout",
     "output_type": "stream",
     "text": [
      "The radius of the circle is: 20\n",
      "1256.6370614359173\n",
      "125.66370614359172\n"
     ]
    }
   ],
   "source": [
    "radius = float(input('The radius of the circle is: '))\n",
    "area_of_circle = math.pi * radius ** 2\n",
    "circum_of_circle = 2 * math.pi * radius\n",
    "print(area_of_circle)\n",
    "print(circum_of_circle)"
   ]
  },
  {
   "cell_type": "code",
   "execution_count": 6,
   "id": "085110b1",
   "metadata": {},
   "outputs": [
    {
     "name": "stdout",
     "output_type": "stream",
     "text": [
      "1256.6370614359173\n"
     ]
    }
   ],
   "source": [
    "print(area_of_circle)"
   ]
  },
  {
   "cell_type": "code",
   "execution_count": 7,
   "id": "bbdb8318",
   "metadata": {},
   "outputs": [],
   "source": [
    "# defining as a function\n",
    "# restart"
   ]
  },
  {
   "cell_type": "code",
   "execution_count": 1,
   "id": "19a76510",
   "metadata": {},
   "outputs": [],
   "source": [
    "import math"
   ]
  },
  {
   "cell_type": "code",
   "execution_count": 4,
   "id": "a9bcd7f5",
   "metadata": {},
   "outputs": [
    {
     "name": "stdout",
     "output_type": "stream",
     "text": [
      "The radius of the circle is:20\n",
      "Area of the circle: 1256.6370614359173\n",
      "Circumference of the circle: 125.66370614359172\n"
     ]
    }
   ],
   "source": [
    "def calculate_circle_properties(radius):\n",
    "    area_of_circle = math.pi * radius ** 2\n",
    "    circum_of_circle = 2 * math.pi * radius\n",
    "    return area_of_circle, circum_of_circle\n",
    "\n",
    "radius = float(input('The radius of the circle is:'))\n",
    "area, circumference = calculate_circle_properties(radius)\n",
    "\n",
    "print('Area of the circle:', area)\n",
    "print('Circumference of the circle:', circumference)\n"
   ]
  },
  {
   "cell_type": "code",
   "execution_count": 8,
   "id": "063e5983",
   "metadata": {},
   "outputs": [
    {
     "name": "stdout",
     "output_type": "stream",
     "text": [
      "Area of the circle: 1256.6370614359173\n",
      "Circumference of the circle: 125.66370614359172\n"
     ]
    }
   ],
   "source": [
    "calculate_circle_properties(30)\n",
    "\n",
    "area, circumference = calculate_circle_properties(radius)\n",
    "\n",
    "print('Area of the circle:', area)\n",
    "print('Circumference of the circle:', circumference)"
   ]
  },
  {
   "cell_type": "code",
   "execution_count": 6,
   "id": "78c37e15",
   "metadata": {},
   "outputs": [
    {
     "name": "stdout",
     "output_type": "stream",
     "text": [
      "area_of_circle\n"
     ]
    }
   ],
   "source": []
  },
  {
   "cell_type": "code",
   "execution_count": 11,
   "id": "9ddf9d50",
   "metadata": {},
   "outputs": [
    {
     "name": "stdout",
     "output_type": "stream",
     "text": [
      "What is your name? Dannie\n",
      "What is your surname?Boo\n",
      "Where are you from?UK\n",
      "How old are you?25\n",
      "Dannie\n",
      "Boo\n",
      "I am from UK\n",
      "I am 25 years old\n"
     ]
    }
   ],
   "source": [
    "first_name = input('What is your name? ')\n",
    "last_name = input('What is your surname?')\n",
    "country = input('Where are you from?')\n",
    "age = input('How old are you?')\n",
    "\n",
    "print(first_name)\n",
    "print(last_name)\n",
    "print(f'I am from {country}')\n",
    "print(f'I am {age} years old')"
   ]
  },
  {
   "cell_type": "code",
   "execution_count": null,
   "id": "4799408f",
   "metadata": {},
   "outputs": [],
   "source": []
  }
 ],
 "metadata": {
  "kernelspec": {
   "display_name": "Python 3 (ipykernel)",
   "language": "python",
   "name": "python3"
  },
  "language_info": {
   "codemirror_mode": {
    "name": "ipython",
    "version": 3
   },
   "file_extension": ".py",
   "mimetype": "text/x-python",
   "name": "python",
   "nbconvert_exporter": "python",
   "pygments_lexer": "ipython3",
   "version": "3.10.9"
  }
 },
 "nbformat": 4,
 "nbformat_minor": 5
}
