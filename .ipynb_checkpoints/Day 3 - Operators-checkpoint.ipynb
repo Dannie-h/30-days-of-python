{
 "cells": [
  {
   "cell_type": "code",
   "execution_count": 2,
   "id": "867aa2e8",
   "metadata": {},
   "outputs": [
    {
     "name": "stdout",
     "output_type": "stream",
     "text": [
      "Addition:  3\n"
     ]
    }
   ],
   "source": [
    "print('Addition: ', 1 + 2)"
   ]
  },
  {
   "cell_type": "code",
   "execution_count": 3,
   "id": "3cb78b74",
   "metadata": {},
   "outputs": [
    {
     "name": "stdout",
     "output_type": "stream",
     "text": [
      "Substraction:  1\n"
     ]
    }
   ],
   "source": [
    "print('Substraction: ', 2 - 1)"
   ]
  },
  {
   "cell_type": "code",
   "execution_count": 4,
   "id": "f3ee6098",
   "metadata": {},
   "outputs": [
    {
     "name": "stdout",
     "output_type": "stream",
     "text": [
      "Multiplication:  6\n"
     ]
    }
   ],
   "source": [
    "print('Multiplication: ', 2 * 3)"
   ]
  },
  {
   "cell_type": "code",
   "execution_count": 5,
   "id": "eb3a5be8",
   "metadata": {},
   "outputs": [
    {
     "name": "stdout",
     "output_type": "stream",
     "text": [
      "Division:  2.0\n"
     ]
    }
   ],
   "source": [
    "print('Division: ', 4 / 2)"
   ]
  },
  {
   "cell_type": "code",
   "execution_count": 6,
   "id": "d34103e8",
   "metadata": {},
   "outputs": [
    {
     "name": "stdout",
     "output_type": "stream",
     "text": [
      "Division:  3.5\n"
     ]
    }
   ],
   "source": [
    "print('Division: ', 7 / 2)"
   ]
  },
  {
   "cell_type": "code",
   "execution_count": 8,
   "id": "02a19984",
   "metadata": {},
   "outputs": [
    {
     "name": "stdout",
     "output_type": "stream",
     "text": [
      "Division without the remainder:  3\n"
     ]
    }
   ],
   "source": [
    "print('Division without the remainder: ', 7 // 2)"
   ]
  },
  {
   "cell_type": "code",
   "execution_count": 9,
   "id": "05bd7f3c",
   "metadata": {},
   "outputs": [
    {
     "name": "stdout",
     "output_type": "stream",
     "text": [
      "Modulus:  1\n"
     ]
    }
   ],
   "source": [
    "print('Modulus: ', 7 % 2)"
   ]
  },
  {
   "cell_type": "code",
   "execution_count": 11,
   "id": "3ca3f654",
   "metadata": {},
   "outputs": [
    {
     "name": "stdout",
     "output_type": "stream",
     "text": [
      "Exponentiation:  8\n"
     ]
    }
   ],
   "source": [
    "print('Exponentiation: ', 2 ** 3)"
   ]
  },
  {
   "cell_type": "code",
   "execution_count": 12,
   "id": "0c838723",
   "metadata": {},
   "outputs": [
    {
     "name": "stdout",
     "output_type": "stream",
     "text": [
      "Floating point number, PI 3.14\n"
     ]
    }
   ],
   "source": [
    "print('Floating point number, PI', 3.14)"
   ]
  },
  {
   "cell_type": "code",
   "execution_count": 13,
   "id": "73c7f37b",
   "metadata": {},
   "outputs": [
    {
     "name": "stdout",
     "output_type": "stream",
     "text": [
      "Floating point number, gravity 9.81\n"
     ]
    }
   ],
   "source": [
    "print('Floating point number, gravity', 9.81)"
   ]
  },
  {
   "cell_type": "code",
   "execution_count": 14,
   "id": "a610ebda",
   "metadata": {},
   "outputs": [
    {
     "name": "stdout",
     "output_type": "stream",
     "text": [
      "Complex number: (1+1j)\n"
     ]
    }
   ],
   "source": [
    "print('Complex number:', 1 + 1j)"
   ]
  },
  {
   "cell_type": "code",
   "execution_count": 15,
   "id": "b50c77b0",
   "metadata": {},
   "outputs": [
    {
     "name": "stdout",
     "output_type": "stream",
     "text": [
      "Multiplying complex numbers:  (2+0j)\n"
     ]
    }
   ],
   "source": [
    "print('Multiplying complex numbers: ',(1 + 1j) * (1 - 1j))"
   ]
  },
  {
   "cell_type": "code",
   "execution_count": 16,
   "id": "cb6fe3c0",
   "metadata": {},
   "outputs": [],
   "source": [
    "# Declaring the variable at the top first\n",
    "a = 3\n",
    "b = 2\n"
   ]
  },
  {
   "cell_type": "code",
   "execution_count": 17,
   "id": "dba08d9e",
   "metadata": {},
   "outputs": [],
   "source": [
    "# Arithmetic operations and assiging the result to a variable\n",
    "total = a + b #sum is a built-in function - avoid overriding them\n",
    "diff = a - b\n",
    "product = a * b\n",
    "division = a / b\n",
    "remainder = a % b\n",
    "floor_division = a // b\n",
    "exponential = a ** b"
   ]
  },
  {
   "cell_type": "code",
   "execution_count": 18,
   "id": "4eb98330",
   "metadata": {},
   "outputs": [
    {
     "name": "stdout",
     "output_type": "stream",
     "text": [
      "5\n"
     ]
    }
   ],
   "source": [
    "print(total)"
   ]
  },
  {
   "cell_type": "code",
   "execution_count": 19,
   "id": "4b0099e5",
   "metadata": {},
   "outputs": [
    {
     "name": "stdout",
     "output_type": "stream",
     "text": [
      "a + b =  5\n"
     ]
    }
   ],
   "source": [
    "print('a + b = ', total)"
   ]
  },
  {
   "cell_type": "code",
   "execution_count": 20,
   "id": "85640b92",
   "metadata": {},
   "outputs": [
    {
     "name": "stdout",
     "output_type": "stream",
     "text": [
      "a - b =  1\n"
     ]
    }
   ],
   "source": [
    "print('a - b = ', diff)"
   ]
  },
  {
   "cell_type": "code",
   "execution_count": 21,
   "id": "c3474385",
   "metadata": {},
   "outputs": [
    {
     "name": "stdout",
     "output_type": "stream",
     "text": [
      "a * b =  6\n",
      "a / b =  1.5\n",
      "a % b =  1\n",
      "a // b =  1\n",
      "a ** b =  9\n"
     ]
    }
   ],
   "source": [
    "print('a * b = ', product)\n",
    "print('a / b = ', division)\n",
    "print('a % b = ', remainder)\n",
    "print('a // b = ', floor_division)\n",
    "print('a ** b = ', exponential)"
   ]
  },
  {
   "cell_type": "code",
   "execution_count": 22,
   "id": "41f7b492",
   "metadata": {},
   "outputs": [
    {
     "name": "stdout",
     "output_type": "stream",
     "text": [
      "== Addition, Substraction, Multiplication, Division, Modulus ==\n"
     ]
    }
   ],
   "source": [
    "print('== Addition, Substraction, Multiplication, Division, Modulus ==')"
   ]
  },
  {
   "cell_type": "code",
   "execution_count": 23,
   "id": "7e3d1860",
   "metadata": {},
   "outputs": [],
   "source": [
    "# Declaring values and organizing them together\n",
    "num_one = 3\n",
    "num_two = 4"
   ]
  },
  {
   "cell_type": "code",
   "execution_count": 24,
   "id": "c828635b",
   "metadata": {},
   "outputs": [],
   "source": [
    "# Arithmetic operations:\n",
    "total = num_one + num_two\n",
    "diff = num_one - num_two\n",
    "product = num_one * num_two\n",
    "div = num_one / num_two\n",
    "remainder = num_one % num_two"
   ]
  },
  {
   "cell_type": "code",
   "execution_count": 25,
   "id": "e251a7b5",
   "metadata": {},
   "outputs": [
    {
     "name": "stdout",
     "output_type": "stream",
     "text": [
      "total:  7\n",
      "difference:  -1\n",
      "product:  12\n",
      "division:  0.75\n",
      "remainder:  3\n"
     ]
    }
   ],
   "source": [
    "# Printing values with label:\n",
    "print('total: ', total)\n",
    "print('difference: ', diff)\n",
    "print('product: ', product)\n",
    "print('division: ', div)\n",
    "print('remainder: ', remainder)"
   ]
  },
  {
   "cell_type": "markdown",
   "id": "d78f1459",
   "metadata": {},
   "source": [
    "Calculating area of circle:"
   ]
  },
  {
   "cell_type": "code",
   "execution_count": 26,
   "id": "122a147a",
   "metadata": {},
   "outputs": [
    {
     "name": "stdout",
     "output_type": "stream",
     "text": [
      "Area of circle with radius =  10 is 314.0\n"
     ]
    }
   ],
   "source": [
    "radius = 10\n",
    "area_of_circle = 3.14 * radius ** 2\n",
    "print('Area of circle with radius = ', radius, 'is', area_of_circle)"
   ]
  },
  {
   "cell_type": "markdown",
   "id": "0e8e9566",
   "metadata": {},
   "source": [
    "Calculating area of a rectangle"
   ]
  },
  {
   "cell_type": "code",
   "execution_count": 27,
   "id": "fe7ba172",
   "metadata": {},
   "outputs": [
    {
     "name": "stdout",
     "output_type": "stream",
     "text": [
      "Area of rectangle: 200\n"
     ]
    }
   ],
   "source": [
    "length = 10\n",
    "width = 20\n",
    "area_of_rectangle = length * width\n",
    "print('Area of rectangle:', area_of_rectangle)"
   ]
  },
  {
   "cell_type": "markdown",
   "id": "51e83270",
   "metadata": {},
   "source": [
    "Calculating the weight of an object"
   ]
  },
  {
   "cell_type": "code",
   "execution_count": 28,
   "id": "7016882f",
   "metadata": {},
   "outputs": [
    {
     "name": "stdout",
     "output_type": "stream",
     "text": [
      "735.75 N\n"
     ]
    }
   ],
   "source": [
    "mass = 75\n",
    "gravity = 9.81\n",
    "weight = mass * gravity\n",
    "print(weight, 'N') #adding unit to the weight"
   ]
  },
  {
   "cell_type": "markdown",
   "id": "93eb37e6",
   "metadata": {},
   "source": [
    "Calculating the density of a liquid"
   ]
  },
  {
   "cell_type": "code",
   "execution_count": 29,
   "id": "bfd6e7e2",
   "metadata": {},
   "outputs": [],
   "source": [
    "mass = 75 #in Kg\n",
    "volume = 0.075 #in cubic meter\n",
    "density = mass / volume #1000kg/m^3"
   ]
  },
  {
   "cell_type": "code",
   "execution_count": 30,
   "id": "191226be",
   "metadata": {},
   "outputs": [
    {
     "name": "stdout",
     "output_type": "stream",
     "text": [
      "density:  1000.0\n"
     ]
    }
   ],
   "source": [
    "print('density: ', density)"
   ]
  },
  {
   "cell_type": "markdown",
   "id": "e56e5ce9",
   "metadata": {},
   "source": [
    "## Comparison Operators"
   ]
  },
  {
   "cell_type": "code",
   "execution_count": 31,
   "id": "16b309c4",
   "metadata": {},
   "outputs": [
    {
     "name": "stdout",
     "output_type": "stream",
     "text": [
      "True\n"
     ]
    }
   ],
   "source": [
    "print(3 > 2)"
   ]
  },
  {
   "cell_type": "code",
   "execution_count": 32,
   "id": "6a151b14",
   "metadata": {},
   "outputs": [
    {
     "name": "stdout",
     "output_type": "stream",
     "text": [
      "True\n"
     ]
    }
   ],
   "source": [
    "print(3 >= 2)"
   ]
  },
  {
   "cell_type": "code",
   "execution_count": 33,
   "id": "ad06b597",
   "metadata": {},
   "outputs": [
    {
     "name": "stdout",
     "output_type": "stream",
     "text": [
      "False\n"
     ]
    }
   ],
   "source": [
    "print(3 < 2)"
   ]
  },
  {
   "cell_type": "code",
   "execution_count": 34,
   "id": "8d69d21b",
   "metadata": {},
   "outputs": [
    {
     "name": "stdout",
     "output_type": "stream",
     "text": [
      "False\n"
     ]
    }
   ],
   "source": [
    "print(3 <= 2)"
   ]
  },
  {
   "cell_type": "code",
   "execution_count": 35,
   "id": "2cfe9578",
   "metadata": {},
   "outputs": [
    {
     "name": "stdout",
     "output_type": "stream",
     "text": [
      "True\n"
     ]
    }
   ],
   "source": [
    "print(2 < 3)"
   ]
  },
  {
   "cell_type": "code",
   "execution_count": 36,
   "id": "795f7efb",
   "metadata": {},
   "outputs": [
    {
     "name": "stdout",
     "output_type": "stream",
     "text": [
      "True\n"
     ]
    }
   ],
   "source": [
    "print(2 <= 3)"
   ]
  },
  {
   "cell_type": "code",
   "execution_count": 37,
   "id": "aa1de73f",
   "metadata": {},
   "outputs": [
    {
     "name": "stdout",
     "output_type": "stream",
     "text": [
      "False\n"
     ]
    }
   ],
   "source": [
    "print(3 == 2)"
   ]
  },
  {
   "cell_type": "code",
   "execution_count": 38,
   "id": "4130be12",
   "metadata": {},
   "outputs": [
    {
     "name": "stdout",
     "output_type": "stream",
     "text": [
      "True\n"
     ]
    }
   ],
   "source": [
    "print(3 != 2)"
   ]
  },
  {
   "cell_type": "code",
   "execution_count": 39,
   "id": "6e900d0f",
   "metadata": {},
   "outputs": [
    {
     "name": "stdout",
     "output_type": "stream",
     "text": [
      "False\n"
     ]
    }
   ],
   "source": [
    "print(len('mango') == len('avocado'))"
   ]
  },
  {
   "cell_type": "code",
   "execution_count": 40,
   "id": "92ebd077",
   "metadata": {},
   "outputs": [
    {
     "name": "stdout",
     "output_type": "stream",
     "text": [
      "True\n"
     ]
    }
   ],
   "source": [
    "print(len('mango') != len('avocado'))"
   ]
  },
  {
   "cell_type": "code",
   "execution_count": 41,
   "id": "26c0e724",
   "metadata": {},
   "outputs": [
    {
     "name": "stdout",
     "output_type": "stream",
     "text": [
      "True\n"
     ]
    }
   ],
   "source": [
    "print(len('mango') < len('avocado'))"
   ]
  },
  {
   "cell_type": "code",
   "execution_count": 42,
   "id": "ae956cf7",
   "metadata": {},
   "outputs": [
    {
     "name": "stdout",
     "output_type": "stream",
     "text": [
      "False\n"
     ]
    }
   ],
   "source": [
    "print(len('milk') != len('meat'))"
   ]
  },
  {
   "cell_type": "code",
   "execution_count": 43,
   "id": "14b2cf3c",
   "metadata": {},
   "outputs": [
    {
     "name": "stdout",
     "output_type": "stream",
     "text": [
      "True\n"
     ]
    }
   ],
   "source": [
    "print(len('milk') == len('meat'))"
   ]
  },
  {
   "cell_type": "code",
   "execution_count": 44,
   "id": "da4ab702",
   "metadata": {},
   "outputs": [
    {
     "name": "stdout",
     "output_type": "stream",
     "text": [
      "True\n"
     ]
    }
   ],
   "source": [
    "print(len('tomato') == len('potato'))"
   ]
  },
  {
   "cell_type": "code",
   "execution_count": 45,
   "id": "1cea198c",
   "metadata": {},
   "outputs": [
    {
     "name": "stdout",
     "output_type": "stream",
     "text": [
      "False\n"
     ]
    }
   ],
   "source": [
    "print(len('tomato') > len('dragon'))"
   ]
  },
  {
   "cell_type": "code",
   "execution_count": 46,
   "id": "3c89972c",
   "metadata": {},
   "outputs": [],
   "source": [
    "# Comparing something gives either a True or False"
   ]
  },
  {
   "cell_type": "code",
   "execution_count": 48,
   "id": "ef362144",
   "metadata": {},
   "outputs": [
    {
     "name": "stdout",
     "output_type": "stream",
     "text": [
      "True == True:  True\n",
      "True == False:  False\n",
      "False == False: True\n"
     ]
    }
   ],
   "source": [
    "print('True == True: ', True == True)\n",
    "print('True == False: ', True == False)\n",
    "print('False == False:', False == False)"
   ]
  },
  {
   "cell_type": "markdown",
   "id": "284139d1",
   "metadata": {},
   "source": [
    "Python also uses:\n",
    "- is: returns True if both variables are the same object (x is y)\n",
    "- is not: returns True if both variables are not the same object (x is not y)\n",
    "- in: returns True if the queried list contains a certain item (x in y)\n",
    "- not in: returns True if the queried list doesn't have a certain item (x in y)"
   ]
  },
  {
   "cell_type": "code",
   "execution_count": 49,
   "id": "70114785",
   "metadata": {},
   "outputs": [
    {
     "name": "stdout",
     "output_type": "stream",
     "text": [
      "1 is 1 True\n"
     ]
    },
    {
     "name": "stderr",
     "output_type": "stream",
     "text": [
      "<>:1: SyntaxWarning: \"is\" with a literal. Did you mean \"==\"?\n",
      "<>:1: SyntaxWarning: \"is\" with a literal. Did you mean \"==\"?\n",
      "C:\\Users\\hdcda\\AppData\\Local\\Temp\\ipykernel_11792\\528044225.py:1: SyntaxWarning: \"is\" with a literal. Did you mean \"==\"?\n",
      "  print('1 is 1', 1 is 1)\n"
     ]
    }
   ],
   "source": [
    "print('1 is 1', 1 is 1)"
   ]
  },
  {
   "cell_type": "code",
   "execution_count": 50,
   "id": "766a0c7f",
   "metadata": {},
   "outputs": [
    {
     "name": "stdout",
     "output_type": "stream",
     "text": [
      "1 is not 2 True\n"
     ]
    },
    {
     "name": "stderr",
     "output_type": "stream",
     "text": [
      "<>:1: SyntaxWarning: \"is not\" with a literal. Did you mean \"!=\"?\n",
      "<>:1: SyntaxWarning: \"is not\" with a literal. Did you mean \"!=\"?\n",
      "C:\\Users\\hdcda\\AppData\\Local\\Temp\\ipykernel_11792\\2684715621.py:1: SyntaxWarning: \"is not\" with a literal. Did you mean \"!=\"?\n",
      "  print('1 is not 2', 1 is not 2)\n"
     ]
    }
   ],
   "source": [
    "print('1 is not 2', 1 is not 2)"
   ]
  },
  {
   "cell_type": "code",
   "execution_count": 51,
   "id": "7ff82638",
   "metadata": {},
   "outputs": [
    {
     "name": "stdout",
     "output_type": "stream",
     "text": [
      "D in Dannie True\n"
     ]
    }
   ],
   "source": [
    "print('D in Dannie', 'D' in 'Dannie')"
   ]
  },
  {
   "cell_type": "code",
   "execution_count": 52,
   "id": "f1b462ec",
   "metadata": {},
   "outputs": [
    {
     "name": "stdout",
     "output_type": "stream",
     "text": [
      "A in Dannie False\n"
     ]
    }
   ],
   "source": [
    "print('A in Dannie', 'A' in 'Dannie')"
   ]
  },
  {
   "cell_type": "code",
   "execution_count": 53,
   "id": "d6434b1e",
   "metadata": {},
   "outputs": [
    {
     "name": "stdout",
     "output_type": "stream",
     "text": [
      "a in Dannie True\n"
     ]
    }
   ],
   "source": [
    "print('a in Dannie', 'a' in 'Dannie')"
   ]
  },
  {
   "cell_type": "code",
   "execution_count": 54,
   "id": "225d4d99",
   "metadata": {},
   "outputs": [
    {
     "name": "stdout",
     "output_type": "stream",
     "text": [
      "True\n"
     ]
    }
   ],
   "source": [
    "print('coding' in 'coding for all')"
   ]
  },
  {
   "cell_type": "code",
   "execution_count": 55,
   "id": "4228a7f6",
   "metadata": {},
   "outputs": [
    {
     "name": "stdout",
     "output_type": "stream",
     "text": [
      "4 is 2 ** 2:  True\n"
     ]
    },
    {
     "name": "stderr",
     "output_type": "stream",
     "text": [
      "<>:1: SyntaxWarning: \"is\" with a literal. Did you mean \"==\"?\n",
      "<>:1: SyntaxWarning: \"is\" with a literal. Did you mean \"==\"?\n",
      "C:\\Users\\hdcda\\AppData\\Local\\Temp\\ipykernel_11792\\2847434392.py:1: SyntaxWarning: \"is\" with a literal. Did you mean \"==\"?\n",
      "  print('4 is 2 ** 2: ', 4 is 2 ** 2)\n"
     ]
    }
   ],
   "source": [
    "print('4 is 2 ** 2: ', 4 is 2 ** 2)"
   ]
  },
  {
   "cell_type": "markdown",
   "id": "580eb6b0",
   "metadata": {},
   "source": [
    "## Logical Operators\n",
    "- and\n",
    "- or\n",
    "- not"
   ]
  },
  {
   "cell_type": "code",
   "execution_count": 56,
   "id": "66ceb6ce",
   "metadata": {},
   "outputs": [
    {
     "name": "stdout",
     "output_type": "stream",
     "text": [
      "True\n"
     ]
    }
   ],
   "source": [
    "print(3 > 2 and 4 > 3)"
   ]
  },
  {
   "cell_type": "code",
   "execution_count": 57,
   "id": "45ce127f",
   "metadata": {},
   "outputs": [
    {
     "name": "stdout",
     "output_type": "stream",
     "text": [
      "False\n"
     ]
    }
   ],
   "source": [
    "print(3 > 2 and 4 < 3)"
   ]
  },
  {
   "cell_type": "code",
   "execution_count": 58,
   "id": "769d8b9f",
   "metadata": {},
   "outputs": [
    {
     "name": "stdout",
     "output_type": "stream",
     "text": [
      "False\n"
     ]
    }
   ],
   "source": [
    "print(3 < 2 and 4 < 3)"
   ]
  },
  {
   "cell_type": "code",
   "execution_count": 59,
   "id": "bda5f427",
   "metadata": {},
   "outputs": [
    {
     "name": "stdout",
     "output_type": "stream",
     "text": [
      "True\n"
     ]
    }
   ],
   "source": [
    "print(3 > 2 or 4 > 3)"
   ]
  },
  {
   "cell_type": "code",
   "execution_count": 60,
   "id": "05c7dc8d",
   "metadata": {},
   "outputs": [
    {
     "name": "stdout",
     "output_type": "stream",
     "text": [
      "True\n"
     ]
    }
   ],
   "source": [
    "print(3 > 2 or 4 < 3)"
   ]
  },
  {
   "cell_type": "code",
   "execution_count": 61,
   "id": "e77ada9d",
   "metadata": {},
   "outputs": [
    {
     "name": "stdout",
     "output_type": "stream",
     "text": [
      "False\n"
     ]
    }
   ],
   "source": [
    "print(3 < 2 or 4 < 2)"
   ]
  },
  {
   "cell_type": "code",
   "execution_count": 62,
   "id": "299835c7",
   "metadata": {},
   "outputs": [
    {
     "name": "stdout",
     "output_type": "stream",
     "text": [
      "False\n"
     ]
    }
   ],
   "source": [
    "print(not 3 > 2) # False because 3 > 2 is true, then not true gives false"
   ]
  },
  {
   "cell_type": "code",
   "execution_count": 63,
   "id": "a593a27e",
   "metadata": {},
   "outputs": [
    {
     "name": "stdout",
     "output_type": "stream",
     "text": [
      "False\n"
     ]
    }
   ],
   "source": [
    "print(not True)"
   ]
  },
  {
   "cell_type": "code",
   "execution_count": 64,
   "id": "4e9cd133",
   "metadata": {},
   "outputs": [
    {
     "name": "stdout",
     "output_type": "stream",
     "text": [
      "True\n"
     ]
    }
   ],
   "source": [
    "print(not False)"
   ]
  },
  {
   "cell_type": "code",
   "execution_count": 65,
   "id": "b1bc2286",
   "metadata": {},
   "outputs": [
    {
     "name": "stdout",
     "output_type": "stream",
     "text": [
      "True\n"
     ]
    }
   ],
   "source": [
    "print(not not True)"
   ]
  },
  {
   "cell_type": "code",
   "execution_count": 66,
   "id": "2b30b2d9",
   "metadata": {},
   "outputs": [
    {
     "name": "stdout",
     "output_type": "stream",
     "text": [
      "False\n"
     ]
    }
   ],
   "source": [
    "print(not not False)"
   ]
  },
  {
   "cell_type": "markdown",
   "id": "50a84ada",
   "metadata": {},
   "source": [
    "## Excercises"
   ]
  },
  {
   "cell_type": "markdown",
   "id": "5f85cbcf",
   "metadata": {},
   "source": [
    "1. Declare your age as integer variable"
   ]
  },
  {
   "cell_type": "code",
   "execution_count": 67,
   "id": "6423ce1e",
   "metadata": {},
   "outputs": [],
   "source": [
    "age = 30"
   ]
  },
  {
   "cell_type": "markdown",
   "id": "4a79d8a0",
   "metadata": {},
   "source": [
    "2. Declare your height as a float variable"
   ]
  },
  {
   "cell_type": "code",
   "execution_count": 68,
   "id": "9fa23a9c",
   "metadata": {},
   "outputs": [],
   "source": [
    "height = 1.64"
   ]
  },
  {
   "cell_type": "markdown",
   "id": "89584164",
   "metadata": {},
   "source": [
    "3. Declare a variable that store a complex number"
   ]
  },
  {
   "cell_type": "code",
   "execution_count": 74,
   "id": "54295d79",
   "metadata": {},
   "outputs": [],
   "source": [
    "complex_number = 3 + 2j"
   ]
  },
  {
   "cell_type": "markdown",
   "id": "f686505b",
   "metadata": {},
   "source": [
    "4. Write a script that prompts the user to enter base and height of the triangle and calculate an area of this triangle (area = 0.5 x b x h)"
   ]
  },
  {
   "cell_type": "code",
   "execution_count": 76,
   "id": "60a85f70",
   "metadata": {},
   "outputs": [
    {
     "name": "stdout",
     "output_type": "stream",
     "text": [
      "Base of triangle: 5\n",
      "Height of triangle: 8\n",
      "The area of the triangle is  20.0\n"
     ]
    }
   ],
   "source": [
    "base = float(input('Base of triangle: '))\n",
    "height = float(input('Height of triangle: '))\n",
    "area_of_triangle = 0.5 * base * height\n",
    "print('The area of the triangle is ', area_of_triangle)"
   ]
  },
  {
   "cell_type": "markdown",
   "id": "5a165730",
   "metadata": {},
   "source": [
    "5. Write a script that prompts the user to enter side a, side b, and side c of the triangle. Calculate the perimeter of the triangle (perimeter = a + b + c)."
   ]
  },
  {
   "cell_type": "code",
   "execution_count": 77,
   "id": "8062623f",
   "metadata": {},
   "outputs": [
    {
     "name": "stdout",
     "output_type": "stream",
     "text": [
      "Side a of triangle is: 3\n",
      "Side b of triangle is: 4\n",
      "Side c of triangle is: 5\n",
      "The perimeter of the triangle is:  12.0\n"
     ]
    }
   ],
   "source": [
    "a = float(input('Side a of triangle is: '))\n",
    "b = float(input('Side b of triangle is: '))\n",
    "c = float(input('Side c of triangle is: '))\n",
    "perimeter_of_triangle = a + b + c\n",
    "print('The perimeter of the triangle is: ', perimeter_of_triangle)"
   ]
  },
  {
   "cell_type": "markdown",
   "id": "979f266d",
   "metadata": {},
   "source": [
    "6. Get length and width of a rectangle using prompt. Calculate its area (area = length x width) and perimeter (perimeter = 2 x (length + width))"
   ]
  },
  {
   "cell_type": "code",
   "execution_count": 81,
   "id": "9d3198ca",
   "metadata": {},
   "outputs": [
    {
     "name": "stdout",
     "output_type": "stream",
     "text": [
      "The length of the rectangle is: 7\n",
      "The width of the rectangle is: 6\n",
      "The area of the rectangle is  42.0 ,and the primeter is  26.0\n"
     ]
    }
   ],
   "source": [
    "length = float(input('The length of the rectangle is: '))\n",
    "width = float(input('The width of the rectangle is: '))\n",
    "area = length * width\n",
    "perimeter = 2 * (length + width)\n",
    "print('The area of the rectangle is ',area, ',and the primeter is ', perimeter)"
   ]
  },
  {
   "cell_type": "markdown",
   "id": "d120231f",
   "metadata": {},
   "source": [
    "7. Get radius of a circle using prompt. Calculate the area (area = pi x r x r) and circumference (c = 2 x pi x r) where pi = 3.14."
   ]
  },
  {
   "cell_type": "code",
   "execution_count": 82,
   "id": "68bb484f",
   "metadata": {},
   "outputs": [
    {
     "name": "stdout",
     "output_type": "stream",
     "text": [
      "The radius of the circle is: 4\n",
      "The area of the circle is 50.24 and the circumference of the circle is 25.12\n"
     ]
    }
   ],
   "source": [
    "radius = float(input('The radius of the circle is: '))\n",
    "area = 3.14 * radius ** 2\n",
    "circ = 2 * 3.14 * radius\n",
    "print('The area of the circle is', area, 'and the circumference of the circle is', circ)"
   ]
  },
  {
   "cell_type": "markdown",
   "id": "c3fcf6c9",
   "metadata": {},
   "source": [
    "8. Calculate the slope, x-intercept and y-intercept of y = 2x -2"
   ]
  },
  {
   "cell_type": "markdown",
   "id": "e11d9176",
   "metadata": {},
   "source": [
    "y = mx + b\n",
    "where: \n",
    "- m is the slope \n",
    "- b is the y-intercept\n",
    "To calculate the slope(m), we can observe that the coefficient of x is 2. So the slope is simply the value of that coefficient. In this case, the slope is 2.\n",
    "\n",
    "To find the x-intercept, we set y to 0 and solve for x. In other words, we find the value of x where the line intersects the x-axis. In our equation, y = 2x -2, we can substitute y with 0 and solve for x:\n",
    "0 = 2x - 2\n",
    "x=1\n",
    "\n",
    "So, the x intercept is 1, which means the line crosses the x-axis at point (1,0).\n",
    "\n",
    "To find the y-intercept, we set x to 0 and solve for y:\n",
    "y= 2(0) - 2\n",
    "y = -2\n",
    "So the y-intercept is -2, which means the line crosses the y-axis at the point (0,-2)"
   ]
  },
  {
   "cell_type": "code",
   "execution_count": 83,
   "id": "609683ce",
   "metadata": {},
   "outputs": [
    {
     "name": "stdout",
     "output_type": "stream",
     "text": [
      "Slope: 2\n",
      "x-intercept: 1\n",
      "y-intercept: -2\n"
     ]
    }
   ],
   "source": [
    "slope = 2\n",
    "x_intercept = 1\n",
    "y_intercept = -2\n",
    "\n",
    "print('Slope:', slope)\n",
    "print('x-intercept:', x_intercept)\n",
    "print('y-intercept:', y_intercept)"
   ]
  },
  {
   "cell_type": "code",
   "execution_count": 85,
   "id": "6fdc2ba3",
   "metadata": {},
   "outputs": [
    {
     "name": "stdout",
     "output_type": "stream",
     "text": [
      "Slope: 2\n",
      "x-intercept: 1.0\n",
      "y-intercept: -2\n"
     ]
    }
   ],
   "source": [
    "# y = mx + b\n",
    "# m slope\n",
    "# b y-intercept\n",
    "\n",
    "m = 2\n",
    "b = -2\n",
    "x_intercept = -b/m\n",
    "\n",
    "print('Slope:', m)\n",
    "print('x-intercept:', x_intercept)\n",
    "print('y-intercept:', b)\n"
   ]
  },
  {
   "cell_type": "markdown",
   "id": "88aad5a8",
   "metadata": {},
   "source": [
    "9. Slope is (m = y2-y1/x2-x1). Find the slope and Euclidean distance between point (2, 2) and point (6,10)"
   ]
  },
  {
   "cell_type": "code",
   "execution_count": 86,
   "id": "c33c6f99",
   "metadata": {},
   "outputs": [
    {
     "name": "stdout",
     "output_type": "stream",
     "text": [
      "Slope: 2.0\n",
      "Euclidean distance: 8.94427190999916\n"
     ]
    }
   ],
   "source": [
    "import math\n",
    "x1, y1 = 2, 2\n",
    "x2, y2 = 6, 10\n",
    "\n",
    "slope = (y2 - y1) / (x2 - x1)\n",
    "\n",
    "distance = math.sqrt((x2-x1)**2 + (y2-y1)**2)\n",
    "\n",
    "print('Slope:', slope)\n",
    "print('Euclidean distance:', distance)\n"
   ]
  },
  {
   "cell_type": "markdown",
   "id": "851e2e1e",
   "metadata": {},
   "source": [
    "10. Compare the slopes in tasks 8 and 9"
   ]
  },
  {
   "cell_type": "code",
   "execution_count": 87,
   "id": "3e78175b",
   "metadata": {},
   "outputs": [
    {
     "data": {
      "text/plain": [
       "True"
      ]
     },
     "execution_count": 87,
     "metadata": {},
     "output_type": "execute_result"
    }
   ],
   "source": [
    "m == slope"
   ]
  },
  {
   "cell_type": "code",
   "execution_count": 88,
   "id": "c258b140",
   "metadata": {},
   "outputs": [
    {
     "data": {
      "text/plain": [
       "True"
      ]
     },
     "execution_count": 88,
     "metadata": {},
     "output_type": "execute_result"
    }
   ],
   "source": [
    "m >= slope"
   ]
  },
  {
   "cell_type": "code",
   "execution_count": 89,
   "id": "106578cb",
   "metadata": {},
   "outputs": [
    {
     "data": {
      "text/plain": [
       "True"
      ]
     },
     "execution_count": 89,
     "metadata": {},
     "output_type": "execute_result"
    }
   ],
   "source": [
    "m <= slope"
   ]
  },
  {
   "cell_type": "code",
   "execution_count": 90,
   "id": "ef03f487",
   "metadata": {},
   "outputs": [
    {
     "data": {
      "text/plain": [
       "False"
      ]
     },
     "execution_count": 90,
     "metadata": {},
     "output_type": "execute_result"
    }
   ],
   "source": [
    "m > slope"
   ]
  },
  {
   "cell_type": "code",
   "execution_count": 91,
   "id": "45b1aa7a",
   "metadata": {},
   "outputs": [
    {
     "data": {
      "text/plain": [
       "False"
      ]
     },
     "execution_count": 91,
     "metadata": {},
     "output_type": "execute_result"
    }
   ],
   "source": [
    "m < slope"
   ]
  },
  {
   "cell_type": "code",
   "execution_count": 92,
   "id": "6005222f",
   "metadata": {},
   "outputs": [
    {
     "data": {
      "text/plain": [
       "False"
      ]
     },
     "execution_count": 92,
     "metadata": {},
     "output_type": "execute_result"
    }
   ],
   "source": [
    "m != slope"
   ]
  },
  {
   "cell_type": "markdown",
   "id": "55ffca55",
   "metadata": {},
   "source": [
    "12. Find the length of 'python' and 'dragon' and make a falsy comparison statement."
   ]
  },
  {
   "cell_type": "code",
   "execution_count": 95,
   "id": "fd173096",
   "metadata": {},
   "outputs": [
    {
     "name": "stdout",
     "output_type": "stream",
     "text": [
      "Length of python is: 6\n",
      "Length of dragon is: 6\n"
     ]
    }
   ],
   "source": [
    "length1 = len('python')\n",
    "length2 = len('dragon')\n",
    "\n",
    "print('Length of python is:', length1)\n",
    "print('Length of dragon is:', length2)"
   ]
  },
  {
   "cell_type": "code",
   "execution_count": 96,
   "id": "6291a41e",
   "metadata": {},
   "outputs": [
    {
     "name": "stdout",
     "output_type": "stream",
     "text": [
      "Falsy comparison: False\n"
     ]
    }
   ],
   "source": [
    "print('Falsy comparison:', length1 > length2)"
   ]
  },
  {
   "cell_type": "markdown",
   "id": "ecb55e09",
   "metadata": {},
   "source": [
    "13.Use and operator to check if 'on' is found in both 'python' and 'dragon'"
   ]
  },
  {
   "cell_type": "code",
   "execution_count": 98,
   "id": "3a2bad48",
   "metadata": {},
   "outputs": [
    {
     "name": "stdout",
     "output_type": "stream",
     "text": [
      "on in python and dragon: True\n"
     ]
    }
   ],
   "source": [
    "print('on in python and dragon:', 'on' in 'python' and 'on' in 'dragon')"
   ]
  },
  {
   "cell_type": "markdown",
   "id": "b9a168c6",
   "metadata": {},
   "source": [
    "14. I hope this course is not full of jargon. Use in operator to check if jargon is in the sentence."
   ]
  },
  {
   "cell_type": "code",
   "execution_count": 99,
   "id": "57018a57",
   "metadata": {},
   "outputs": [
    {
     "name": "stdout",
     "output_type": "stream",
     "text": [
      "jargon: True\n"
     ]
    }
   ],
   "source": [
    "print('jargon:', 'jargon' in 'I hope this course is not full of jargon')"
   ]
  },
  {
   "cell_type": "markdown",
   "id": "1075aef5",
   "metadata": {},
   "source": [
    " 15. There is no 'on' in both dragon and python"
   ]
  },
  {
   "cell_type": "code",
   "execution_count": 100,
   "id": "d44c9729",
   "metadata": {},
   "outputs": [
    {
     "name": "stdout",
     "output_type": "stream",
     "text": [
      "No 'on' in both dragon and python: False\n"
     ]
    }
   ],
   "source": [
    "print(\"No 'on' in both dragon and python:\", 'on' not in 'dragon' and 'on' not in 'python')"
   ]
  },
  {
   "cell_type": "markdown",
   "id": "1fafcf60",
   "metadata": {},
   "source": [
    "16. Find the length of the text python and convert the value to float and convert it to string"
   ]
  },
  {
   "cell_type": "code",
   "execution_count": 108,
   "id": "07930efa",
   "metadata": {},
   "outputs": [],
   "source": [
    "length = len('python')"
   ]
  },
  {
   "cell_type": "code",
   "execution_count": 109,
   "id": "86045822",
   "metadata": {},
   "outputs": [
    {
     "name": "stdout",
     "output_type": "stream",
     "text": [
      "6\n"
     ]
    }
   ],
   "source": [
    "print(length)"
   ]
  },
  {
   "cell_type": "code",
   "execution_count": 110,
   "id": "50a29c80",
   "metadata": {},
   "outputs": [
    {
     "name": "stdout",
     "output_type": "stream",
     "text": [
      "6.0\n"
     ]
    }
   ],
   "source": [
    "length_fl = float(len('python'))\n",
    "print(length_fl)"
   ]
  },
  {
   "cell_type": "code",
   "execution_count": 111,
   "id": "78444bc7",
   "metadata": {},
   "outputs": [
    {
     "name": "stdout",
     "output_type": "stream",
     "text": [
      "6\n"
     ]
    }
   ],
   "source": [
    "length_st = str(len('python'))\n",
    "print(length_st)"
   ]
  },
  {
   "cell_type": "markdown",
   "id": "d0a02fa8",
   "metadata": {},
   "source": [
    "17. Even numbers are divisible by 2 and the remainder is zero. How do you check if a number is even or not using python?"
   ]
  },
  {
   "cell_type": "code",
   "execution_count": 112,
   "id": "7c5ac387",
   "metadata": {},
   "outputs": [],
   "source": [
    "# with the modulus operator and using an if statement"
   ]
  },
  {
   "cell_type": "code",
   "execution_count": 113,
   "id": "00120854",
   "metadata": {},
   "outputs": [
    {
     "name": "stdout",
     "output_type": "stream",
     "text": [
      "Even\n"
     ]
    }
   ],
   "source": [
    "num = 6\n",
    "if 6 % 2 == 0:\n",
    "    print('Even')\n",
    "else:\n",
    "    print('not even')"
   ]
  },
  {
   "cell_type": "markdown",
   "id": "2ebabbb6",
   "metadata": {},
   "source": [
    "18.Check if the floor division of 7 by 3 is equal to the int converted value of 2.7."
   ]
  },
  {
   "cell_type": "code",
   "execution_count": 115,
   "id": "ba9cf6d4",
   "metadata": {},
   "outputs": [
    {
     "data": {
      "text/plain": [
       "True"
      ]
     },
     "execution_count": 115,
     "metadata": {},
     "output_type": "execute_result"
    }
   ],
   "source": [
    "7 // 3 == int(2.7)"
   ]
  },
  {
   "cell_type": "markdown",
   "id": "2a1ccd13",
   "metadata": {},
   "source": [
    "19. Check if type of '10' is equal to type of 10"
   ]
  },
  {
   "cell_type": "code",
   "execution_count": 116,
   "id": "687bff51",
   "metadata": {},
   "outputs": [
    {
     "data": {
      "text/plain": [
       "False"
      ]
     },
     "execution_count": 116,
     "metadata": {},
     "output_type": "execute_result"
    }
   ],
   "source": [
    "type('10') == type(10)"
   ]
  },
  {
   "cell_type": "markdown",
   "id": "8b96d39c",
   "metadata": {},
   "source": [
    "20. Check if int('9.8') is equal to 10"
   ]
  },
  {
   "cell_type": "code",
   "execution_count": 120,
   "id": "8ee4f9d3",
   "metadata": {},
   "outputs": [
    {
     "ename": "ValueError",
     "evalue": "invalid literal for int() with base 10: '9.8'",
     "output_type": "error",
     "traceback": [
      "\u001b[1;31m---------------------------------------------------------------------------\u001b[0m",
      "\u001b[1;31mValueError\u001b[0m                                Traceback (most recent call last)",
      "Cell \u001b[1;32mIn[120], line 1\u001b[0m\n\u001b[1;32m----> 1\u001b[0m \u001b[38;5;28;43mint\u001b[39;49m\u001b[43m(\u001b[49m\u001b[38;5;124;43m'\u001b[39;49m\u001b[38;5;124;43m9.8\u001b[39;49m\u001b[38;5;124;43m'\u001b[39;49m\u001b[43m)\u001b[49m \u001b[38;5;241m==\u001b[39m \u001b[38;5;241m10\u001b[39m\n",
      "\u001b[1;31mValueError\u001b[0m: invalid literal for int() with base 10: '9.8'"
     ]
    }
   ],
   "source": [
    "int('9.8') == 10 # gives error because the string '9.8' cannot be directly converted to integer"
   ]
  },
  {
   "cell_type": "markdown",
   "id": "c72e84d3",
   "metadata": {},
   "source": [
    "Write a script that prompts the user to enter hours and rate per hour. Calculate pay of the person."
   ]
  },
  {
   "cell_type": "code",
   "execution_count": 122,
   "id": "dee83bba",
   "metadata": {},
   "outputs": [
    {
     "name": "stdout",
     "output_type": "stream",
     "text": [
      "How many hours per month: 24\n",
      "What is the hourly rate?:50\n",
      "The pay for this month is: 1200.0\n"
     ]
    }
   ],
   "source": [
    "hours = float(input('How many hours per month: '))\n",
    "hourly_rate = float(input('What is the hourly rate?:'))\n",
    "pay = hours * hourly_rate\n",
    "print('The pay for this month is:', pay)"
   ]
  },
  {
   "cell_type": "markdown",
   "id": "967f05da",
   "metadata": {},
   "source": [
    "22. Write a script that prompts the user to enter number of years. Calculate the number of seconds a person can live. Assume a person can live hundred years"
   ]
  },
  {
   "cell_type": "code",
   "execution_count": 123,
   "id": "c6cdc488",
   "metadata": {},
   "outputs": [
    {
     "name": "stdout",
     "output_type": "stream",
     "text": [
      "How old are you?:30\n",
      "You have lived approximately  946080000.0 seconds\n"
     ]
    }
   ],
   "source": [
    "years = float(input('How old are you?:'))\n",
    "seconds_lived = years * 365 * 24 * 60 * 60\n",
    "print('You have lived approximately ', seconds_lived, 'seconds')"
   ]
  },
  {
   "cell_type": "markdown",
   "id": "a980264d",
   "metadata": {},
   "source": [
    "23.Write a Python script that displays the following table"
   ]
  },
  {
   "cell_type": "code",
   "execution_count": 131,
   "id": "71718ace",
   "metadata": {},
   "outputs": [
    {
     "name": "stdout",
     "output_type": "stream",
     "text": [
      "1 1 1 1 1\n",
      "2 1 2 4 8\n",
      "3 1 3 9 27\n",
      "4 1 4 16 64\n",
      "5 1 5 25 125\n"
     ]
    }
   ],
   "source": [
    "print('1 1 1 1 1\\n2 1 2 4 8\\n3 1 3 9 27\\n4 1 4 16 64\\n5 1 5 25 125')"
   ]
  },
  {
   "cell_type": "code",
   "execution_count": null,
   "id": "da5817c8",
   "metadata": {},
   "outputs": [],
   "source": []
  }
 ],
 "metadata": {
  "kernelspec": {
   "display_name": "Python 3 (ipykernel)",
   "language": "python",
   "name": "python3"
  },
  "language_info": {
   "codemirror_mode": {
    "name": "ipython",
    "version": 3
   },
   "file_extension": ".py",
   "mimetype": "text/x-python",
   "name": "python",
   "nbconvert_exporter": "python",
   "pygments_lexer": "ipython3",
   "version": "3.10.9"
  }
 },
 "nbformat": 4,
 "nbformat_minor": 5
}
