{
 "cells": [
  {
   "cell_type": "markdown",
   "id": "bc1e19ef",
   "metadata": {},
   "source": [
    "nums = [1,2,3,4,5] \n",
    "\n",
    "- Create an output of [2,4,6,8,10]\n",
    "\n",
    "- Then print the list only with even numbers [2,4]\n",
    "\n",
    "- Then print the list only with odd numbers [1, 3, 5]"
   ]
  },
  {
   "cell_type": "code",
   "execution_count": 10,
   "id": "e68f6226",
   "metadata": {},
   "outputs": [
    {
     "name": "stdout",
     "output_type": "stream",
     "text": [
      "[2, 4]\n"
     ]
    }
   ],
   "source": [
    "num_list = [1,2,3,4,5]\n",
    "even_numbers = []\n",
    "\n",
    "for num in num_list:\n",
    "    if num % 2 == 0:\n",
    "        even_numbers.append(num)\n",
    "print(even_numbers)"
   ]
  },
  {
   "cell_type": "code",
   "execution_count": 11,
   "id": "f87301fa",
   "metadata": {},
   "outputs": [
    {
     "name": "stdout",
     "output_type": "stream",
     "text": [
      "[1, 3, 5]\n"
     ]
    }
   ],
   "source": [
    "num_list =  [1,2,3,4,5]\n",
    "odd_numbers = []\n",
    "\n",
    "for num in num_list:\n",
    "    if num % 2 != 0:\n",
    "        odd_numbers.append(num)\n",
    "print(odd_numbers)"
   ]
  },
  {
   "cell_type": "code",
   "execution_count": 14,
   "id": "261ecfa6",
   "metadata": {},
   "outputs": [
    {
     "name": "stdout",
     "output_type": "stream",
     "text": [
      "[2, 4, 6, 8, 10]\n"
     ]
    }
   ],
   "source": [
    "num_list = [1,2,3,4,5]\n",
    "\n",
    "doubles = []\n",
    "\n",
    "for num in num_list:\n",
    "    new = num * 2\n",
    "    doubles.append(new)\n",
    "print(doubles)"
   ]
  },
  {
   "cell_type": "code",
   "execution_count": 16,
   "id": "483cc92e",
   "metadata": {},
   "outputs": [
    {
     "name": "stdout",
     "output_type": "stream",
     "text": [
      "[2, 4, 6, 8, 10]\n"
     ]
    }
   ],
   "source": [
    "num_list = [1,2,3,4,5]\n",
    "doubles = [num * 2 for num in num_list]\n",
    "print(doubles)"
   ]
  },
  {
   "cell_type": "code",
   "execution_count": null,
   "id": "8b9b8af9",
   "metadata": {},
   "outputs": [],
   "source": []
  }
 ],
 "metadata": {
  "kernelspec": {
   "display_name": "Python 3 (ipykernel)",
   "language": "python",
   "name": "python3"
  },
  "language_info": {
   "codemirror_mode": {
    "name": "ipython",
    "version": 3
   },
   "file_extension": ".py",
   "mimetype": "text/x-python",
   "name": "python",
   "nbconvert_exporter": "python",
   "pygments_lexer": "ipython3",
   "version": "3.10.9"
  }
 },
 "nbformat": 4,
 "nbformat_minor": 5
}
