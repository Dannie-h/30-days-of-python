{
 "cells": [
  {
   "cell_type": "markdown",
   "id": "3c35f9c2",
   "metadata": {},
   "source": [
    "### Creating a string"
   ]
  },
  {
   "cell_type": "code",
   "execution_count": 1,
   "id": "6804b57a",
   "metadata": {},
   "outputs": [],
   "source": [
    "letter = 'P' "
   ]
  },
  {
   "cell_type": "code",
   "execution_count": 2,
   "id": "6f931d3e",
   "metadata": {},
   "outputs": [
    {
     "name": "stdout",
     "output_type": "stream",
     "text": [
      "P\n"
     ]
    }
   ],
   "source": [
    "print(letter)"
   ]
  },
  {
   "cell_type": "code",
   "execution_count": 3,
   "id": "04ada7d5",
   "metadata": {},
   "outputs": [
    {
     "name": "stdout",
     "output_type": "stream",
     "text": [
      "1\n"
     ]
    }
   ],
   "source": [
    "print(len(letter))"
   ]
  },
  {
   "cell_type": "code",
   "execution_count": 4,
   "id": "c5a0626b",
   "metadata": {},
   "outputs": [],
   "source": [
    "greeting = 'Hello, World!'"
   ]
  },
  {
   "cell_type": "code",
   "execution_count": 5,
   "id": "c805ce0b",
   "metadata": {},
   "outputs": [
    {
     "name": "stdout",
     "output_type": "stream",
     "text": [
      "Hello, World!\n"
     ]
    }
   ],
   "source": [
    "print(greeting)"
   ]
  },
  {
   "cell_type": "code",
   "execution_count": 6,
   "id": "682ca62a",
   "metadata": {},
   "outputs": [
    {
     "name": "stdout",
     "output_type": "stream",
     "text": [
      "13\n"
     ]
    }
   ],
   "source": [
    "print(len(greeting))"
   ]
  },
  {
   "cell_type": "code",
   "execution_count": 7,
   "id": "ff43600f",
   "metadata": {},
   "outputs": [],
   "source": [
    "sentence = 'I hope you are enjoying 30 days of Python Challenge'"
   ]
  },
  {
   "cell_type": "code",
   "execution_count": 8,
   "id": "2bf229f4",
   "metadata": {},
   "outputs": [
    {
     "name": "stdout",
     "output_type": "stream",
     "text": [
      "I hope you are enjoying 30 days of Python Challenge\n"
     ]
    }
   ],
   "source": [
    "print(sentence)"
   ]
  },
  {
   "cell_type": "code",
   "execution_count": 10,
   "id": "6c3623e5",
   "metadata": {},
   "outputs": [
    {
     "name": "stdout",
     "output_type": "stream",
     "text": [
      "51\n"
     ]
    }
   ],
   "source": [
    "print(len(sentence))"
   ]
  },
  {
   "cell_type": "markdown",
   "id": "e55715ba",
   "metadata": {},
   "source": [
    "Multiline string is created by using triple singke (''') or triple double quotes(\"\"\")"
   ]
  },
  {
   "cell_type": "code",
   "execution_count": 11,
   "id": "40fd67a7",
   "metadata": {},
   "outputs": [],
   "source": [
    "multiline_string = \"\"\"I am a teacher and enjoy teaching.\n",
    "I didn't find anything as rewarding as empowering people.\n",
    "That is why I created 30 days of Python.\"\"\""
   ]
  },
  {
   "cell_type": "code",
   "execution_count": 12,
   "id": "abb9e257",
   "metadata": {},
   "outputs": [
    {
     "name": "stdout",
     "output_type": "stream",
     "text": [
      "I am a teacher and enjoy teaching.\n",
      "I didn't find anything as rewarding as empowering people.\n",
      "That is why I created 30 days of Python.\n"
     ]
    }
   ],
   "source": [
    "print(multiline_string)"
   ]
  },
  {
   "cell_type": "markdown",
   "id": "16b3b1e1",
   "metadata": {},
   "source": [
    "### String Concatenation"
   ]
  },
  {
   "cell_type": "code",
   "execution_count": 14,
   "id": "6063b0fb",
   "metadata": {},
   "outputs": [],
   "source": [
    "first_name = 'Miku'\n",
    "last_name = 'Piku'\n",
    "space = ' '"
   ]
  },
  {
   "cell_type": "code",
   "execution_count": 15,
   "id": "a5b1cf73",
   "metadata": {},
   "outputs": [],
   "source": [
    "full_name = first_name + space + last_name"
   ]
  },
  {
   "cell_type": "code",
   "execution_count": 16,
   "id": "28b57956",
   "metadata": {},
   "outputs": [
    {
     "name": "stdout",
     "output_type": "stream",
     "text": [
      "Miku Piku\n"
     ]
    }
   ],
   "source": [
    "print(full_name)"
   ]
  },
  {
   "cell_type": "code",
   "execution_count": 17,
   "id": "fdcec7c7",
   "metadata": {},
   "outputs": [
    {
     "name": "stdout",
     "output_type": "stream",
     "text": [
      "4\n"
     ]
    }
   ],
   "source": [
    "print(len(first_name))"
   ]
  },
  {
   "cell_type": "code",
   "execution_count": 18,
   "id": "7aad5a8f",
   "metadata": {},
   "outputs": [
    {
     "name": "stdout",
     "output_type": "stream",
     "text": [
      "4\n"
     ]
    }
   ],
   "source": [
    "print(len(last_name))"
   ]
  },
  {
   "cell_type": "code",
   "execution_count": 19,
   "id": "af90075e",
   "metadata": {},
   "outputs": [
    {
     "name": "stdout",
     "output_type": "stream",
     "text": [
      "True\n"
     ]
    }
   ],
   "source": [
    "print(len(first_name) == len(last_name))"
   ]
  },
  {
   "cell_type": "code",
   "execution_count": 20,
   "id": "fcd4a569",
   "metadata": {},
   "outputs": [
    {
     "name": "stdout",
     "output_type": "stream",
     "text": [
      "9\n"
     ]
    }
   ],
   "source": [
    "print(len(full_name))"
   ]
  },
  {
   "cell_type": "markdown",
   "id": "4e21239f",
   "metadata": {},
   "source": [
    "### Escape Sequences in Strings\n",
    "- \\n: new line\n",
    "- \\t: Tab means 8 spaces\n",
    "- \\\\: Back lash\n",
    "- \\': Single quote\n",
    "- \\\": Double quote"
   ]
  },
  {
   "cell_type": "code",
   "execution_count": 21,
   "id": "0b4ba64b",
   "metadata": {},
   "outputs": [
    {
     "name": "stdout",
     "output_type": "stream",
     "text": [
      "I hope eveyrhoby is enjoying the Python Challenge.\n",
      "Are you?\n"
     ]
    }
   ],
   "source": [
    "print('I hope eveyrhoby is enjoying the Python Challenge.\\nAre you?')"
   ]
  },
  {
   "cell_type": "code",
   "execution_count": 24,
   "id": "0c57481c",
   "metadata": {},
   "outputs": [
    {
     "name": "stdout",
     "output_type": "stream",
     "text": [
      "Days\tTopics\tExercises\n",
      "Day 1\t5\t5\n",
      "Day 2\t6\t20\n",
      "Day 3\t5\t23\n",
      "Day 4\t1\t35\n"
     ]
    }
   ],
   "source": [
    "print('Days\\tTopics\\tExercises')\n",
    "print('Day 1\\t5\\t5')\n",
    "print('Day 2\\t6\\t20')\n",
    "print('Day 3\\t5\\t23')\n",
    "print('Day 4\\t1\\t35')"
   ]
  },
  {
   "cell_type": "code",
   "execution_count": 25,
   "id": "5283c0f6",
   "metadata": {},
   "outputs": [
    {
     "name": "stdout",
     "output_type": "stream",
     "text": [
      "This is a backlash symbol (\\)\n"
     ]
    }
   ],
   "source": [
    "print('This is a backlash symbol (\\\\)')"
   ]
  },
  {
   "cell_type": "code",
   "execution_count": 27,
   "id": "2b268cab",
   "metadata": {},
   "outputs": [
    {
     "name": "stdout",
     "output_type": "stream",
     "text": [
      "In every programming language it starts wit \"Hello, World!\"\n"
     ]
    }
   ],
   "source": [
    "print('In every programming language it starts wit \\\"Hello, World!\\\"')\n",
    "#to write a double quote inside"
   ]
  },
  {
   "cell_type": "markdown",
   "id": "586fc364",
   "metadata": {},
   "source": [
    "### String Formatting"
   ]
  },
  {
   "cell_type": "markdown",
   "id": "a8242fa3",
   "metadata": {},
   "source": [
    "#### str.format"
   ]
  },
  {
   "cell_type": "code",
   "execution_count": 30,
   "id": "8ac18c0b",
   "metadata": {},
   "outputs": [
    {
     "name": "stdout",
     "output_type": "stream",
     "text": [
      "She is Miku Piku. And she teaches Meowsies\n"
     ]
    }
   ],
   "source": [
    "first_name = 'Miku'\n",
    "last_name = 'Piku'\n",
    "language = 'Meowsies'\n",
    "formated_string = 'She is {} {}. And she teaches {}'.format(first_name, last_name, language)\n",
    "print(formated_string)"
   ]
  },
  {
   "cell_type": "code",
   "execution_count": 31,
   "id": "dedac2b2",
   "metadata": {},
   "outputs": [],
   "source": [
    "a = 4\n",
    "b = 3"
   ]
  },
  {
   "cell_type": "code",
   "execution_count": 32,
   "id": "43209fc1",
   "metadata": {},
   "outputs": [
    {
     "name": "stdout",
     "output_type": "stream",
     "text": [
      "4 + 3 = 7\n",
      "4 - 3 = 1\n",
      "4 * 3 = 12\n",
      "4 / 3 = 1.33\n",
      "4 % 3 = 1\n",
      "4 // 3 = 1\n",
      "4 ** 3 = 64\n"
     ]
    }
   ],
   "source": [
    "print('{} + {} = {}'.format(a, b, a + b))\n",
    "print('{} - {} = {}'.format(a, b, a - b))\n",
    "print('{} * {} = {}'.format(a, b, a * b))\n",
    "print('{} / {} = {:.2f}'.format(a, b, a / b)) # limits it to two digits after decimal\n",
    "print('{} % {} = {}'.format(a, b, a%b))\n",
    "print('{} // {} = {}'.format(a, b, a // b))\n",
    "print('{} ** {} = {}'.format(a, b, a ** b))"
   ]
  },
  {
   "cell_type": "code",
   "execution_count": 33,
   "id": "12ed49c2",
   "metadata": {},
   "outputs": [
    {
     "name": "stdout",
     "output_type": "stream",
     "text": [
      "The area of the circle with a radius 10 is 314.00\n"
     ]
    }
   ],
   "source": [
    "radius = 10\n",
    "pi = 3.14\n",
    "area = pi * radius ** 2\n",
    "formated_string = 'The area of the circle with a radius {} is {:.2f}'.format(radius,area)\n",
    "print(formated_string)"
   ]
  },
  {
   "cell_type": "markdown",
   "id": "7b98e923",
   "metadata": {},
   "source": [
    "#### f-strings (Python 3.6 +)\n",
    "- strings start with f and we can inject the data in their corresponding positions"
   ]
  },
  {
   "cell_type": "code",
   "execution_count": 35,
   "id": "207458cf",
   "metadata": {},
   "outputs": [
    {
     "name": "stdout",
     "output_type": "stream",
     "text": [
      "4 + 3 = 7\n",
      "4 - 3 = 1\n",
      "4 * 3 = 12\n",
      "4 / 3 = 1.33\n",
      "4 % 3 = 1\n",
      "4 // 3 = 1\n",
      "4 ** 3 = 64\n"
     ]
    }
   ],
   "source": [
    "a = 4\n",
    "b = 3\n",
    "print(f'{a} + {b} = {a + b}')\n",
    "print(f'{a} - {b} = {a - b}')\n",
    "print(f'{a} * {b} = {a * b}')\n",
    "print(f'{a} / {b} = {a / b:.2f}')\n",
    "print(f'{a} % {b} = {a % b}')\n",
    "print(f'{a} // {b} = {a // b}')\n",
    "print(f'{a} ** {b} = {a ** b}')"
   ]
  },
  {
   "cell_type": "markdown",
   "id": "b15dd8e0",
   "metadata": {},
   "source": [
    "### Python Strings as Sequences of Characters\n",
    "\n",
    "Python strings are sequences of characters, and share their basic methods of access with other Python ordered sequences of objects - lists and tuples. The simplest way of extracting single characters from strings (and individual members from any sequence) is to unpack them into corresponding variables."
   ]
  },
  {
   "cell_type": "markdown",
   "id": "ada7820b",
   "metadata": {},
   "source": [
    "#### Unpacking Characters"
   ]
  },
  {
   "cell_type": "code",
   "execution_count": 36,
   "id": "0a18f72b",
   "metadata": {},
   "outputs": [
    {
     "name": "stdout",
     "output_type": "stream",
     "text": [
      "P\n",
      "y\n",
      "t\n",
      "h\n",
      "o\n",
      "n\n"
     ]
    }
   ],
   "source": [
    "language = 'Python'\n",
    "a,b,c,d,e,f = language # unpacking sequence characters into variables\n",
    "print(a) #P\n",
    "print(b) #y\n",
    "print(c) #t\n",
    "print(d) #h\n",
    "print(e) #o\n",
    "print(f) #f"
   ]
  },
  {
   "cell_type": "markdown",
   "id": "7ba9f630",
   "metadata": {},
   "source": [
    "#### Accessing characters in strings by index\n",
    "In Python counting starts from zero. therefore the first letter of a string is at zero index and the last letter of a string is the length of a string minus one."
   ]
  },
  {
   "cell_type": "code",
   "execution_count": 37,
   "id": "3de128c2",
   "metadata": {},
   "outputs": [],
   "source": [
    "language = 'Python'"
   ]
  },
  {
   "cell_type": "code",
   "execution_count": 38,
   "id": "ff23095a",
   "metadata": {},
   "outputs": [],
   "source": [
    "first_letter = language[0]"
   ]
  },
  {
   "cell_type": "code",
   "execution_count": 39,
   "id": "c7c40bcb",
   "metadata": {},
   "outputs": [
    {
     "name": "stdout",
     "output_type": "stream",
     "text": [
      "P\n"
     ]
    }
   ],
   "source": [
    "print(first_letter)"
   ]
  },
  {
   "cell_type": "code",
   "execution_count": 40,
   "id": "0e05810e",
   "metadata": {},
   "outputs": [],
   "source": [
    "second_letter = language[1]"
   ]
  },
  {
   "cell_type": "code",
   "execution_count": 41,
   "id": "5329fd14",
   "metadata": {},
   "outputs": [
    {
     "name": "stdout",
     "output_type": "stream",
     "text": [
      "y\n"
     ]
    }
   ],
   "source": [
    "print(second_letter)"
   ]
  },
  {
   "cell_type": "code",
   "execution_count": 42,
   "id": "720cc57c",
   "metadata": {},
   "outputs": [],
   "source": [
    "last_index = language[-1]"
   ]
  },
  {
   "cell_type": "code",
   "execution_count": 43,
   "id": "b04ea730",
   "metadata": {},
   "outputs": [
    {
     "name": "stdout",
     "output_type": "stream",
     "text": [
      "n\n"
     ]
    }
   ],
   "source": [
    "print(last_index)"
   ]
  },
  {
   "cell_type": "code",
   "execution_count": 44,
   "id": "adef5c47",
   "metadata": {},
   "outputs": [],
   "source": [
    "last_index = len(language) - 1"
   ]
  },
  {
   "cell_type": "code",
   "execution_count": 49,
   "id": "c2aa136c",
   "metadata": {},
   "outputs": [
    {
     "name": "stdout",
     "output_type": "stream",
     "text": [
      "5\n"
     ]
    }
   ],
   "source": [
    "print(last_index)"
   ]
  },
  {
   "cell_type": "code",
   "execution_count": 47,
   "id": "ae4ace53",
   "metadata": {},
   "outputs": [],
   "source": [
    "last_letter = language[last_index]"
   ]
  },
  {
   "cell_type": "code",
   "execution_count": 48,
   "id": "3ffa2582",
   "metadata": {},
   "outputs": [
    {
     "name": "stdout",
     "output_type": "stream",
     "text": [
      "n\n"
     ]
    }
   ],
   "source": [
    "print(last_letter)"
   ]
  },
  {
   "cell_type": "code",
   "execution_count": 50,
   "id": "adfb15c9",
   "metadata": {},
   "outputs": [],
   "source": [
    "second_last_letter = language[-2]"
   ]
  },
  {
   "cell_type": "code",
   "execution_count": 51,
   "id": "333fda6e",
   "metadata": {},
   "outputs": [
    {
     "name": "stdout",
     "output_type": "stream",
     "text": [
      "o\n"
     ]
    }
   ],
   "source": [
    "print(second_last_letter)"
   ]
  },
  {
   "cell_type": "markdown",
   "id": "e401a84e",
   "metadata": {},
   "source": [
    "#### Slicing Python Strings"
   ]
  },
  {
   "cell_type": "code",
   "execution_count": 52,
   "id": "ccf867da",
   "metadata": {},
   "outputs": [],
   "source": [
    "language = 'Python'"
   ]
  },
  {
   "cell_type": "code",
   "execution_count": 53,
   "id": "02e717ae",
   "metadata": {},
   "outputs": [],
   "source": [
    "first_three = language[0:3] #starts at zero index and up to 3 but not including 3"
   ]
  },
  {
   "cell_type": "code",
   "execution_count": 54,
   "id": "5ae62c3e",
   "metadata": {},
   "outputs": [
    {
     "name": "stdout",
     "output_type": "stream",
     "text": [
      "Pyt\n"
     ]
    }
   ],
   "source": [
    "print(first_three)"
   ]
  },
  {
   "cell_type": "code",
   "execution_count": 55,
   "id": "cd30ff52",
   "metadata": {},
   "outputs": [],
   "source": [
    "last_three = language[3:6]"
   ]
  },
  {
   "cell_type": "code",
   "execution_count": 56,
   "id": "3265de36",
   "metadata": {},
   "outputs": [
    {
     "name": "stdout",
     "output_type": "stream",
     "text": [
      "hon\n"
     ]
    }
   ],
   "source": [
    "print(last_three)"
   ]
  },
  {
   "cell_type": "code",
   "execution_count": 57,
   "id": "13838426",
   "metadata": {},
   "outputs": [],
   "source": [
    "#another methods:"
   ]
  },
  {
   "cell_type": "code",
   "execution_count": 58,
   "id": "c26331b9",
   "metadata": {},
   "outputs": [],
   "source": [
    "last_three_v2 = language[-3:]"
   ]
  },
  {
   "cell_type": "code",
   "execution_count": 59,
   "id": "b66b8b51",
   "metadata": {},
   "outputs": [
    {
     "name": "stdout",
     "output_type": "stream",
     "text": [
      "hon\n"
     ]
    }
   ],
   "source": [
    "print(last_three_v2)"
   ]
  },
  {
   "cell_type": "code",
   "execution_count": 60,
   "id": "485f4368",
   "metadata": {},
   "outputs": [],
   "source": [
    "last_three_v3 = language[3:]"
   ]
  },
  {
   "cell_type": "code",
   "execution_count": 61,
   "id": "8817ae9d",
   "metadata": {},
   "outputs": [
    {
     "name": "stdout",
     "output_type": "stream",
     "text": [
      "hon\n"
     ]
    }
   ],
   "source": [
    "print(last_three_v3)"
   ]
  },
  {
   "cell_type": "markdown",
   "id": "9caa338a",
   "metadata": {},
   "source": [
    "#### Reversing a String"
   ]
  },
  {
   "cell_type": "code",
   "execution_count": 62,
   "id": "83a924c0",
   "metadata": {},
   "outputs": [],
   "source": [
    "greeting = 'Hello, World!'"
   ]
  },
  {
   "cell_type": "code",
   "execution_count": 63,
   "id": "e7a8fd0f",
   "metadata": {},
   "outputs": [
    {
     "name": "stdout",
     "output_type": "stream",
     "text": [
      "!dlroW ,olleH\n"
     ]
    }
   ],
   "source": [
    "print(greeting[::-1])"
   ]
  },
  {
   "cell_type": "markdown",
   "id": "272de66b",
   "metadata": {},
   "source": [
    "### String Methods"
   ]
  },
  {
   "cell_type": "markdown",
   "id": "cf16c31a",
   "metadata": {},
   "source": [
    "#### capitalize() \n",
    "- converts the first character of the string to a capital letter"
   ]
  },
  {
   "cell_type": "code",
   "execution_count": 65,
   "id": "a8271ed1",
   "metadata": {},
   "outputs": [],
   "source": [
    "challenge = 'thirty days of python'"
   ]
  },
  {
   "cell_type": "code",
   "execution_count": 67,
   "id": "8545a202",
   "metadata": {},
   "outputs": [
    {
     "name": "stdout",
     "output_type": "stream",
     "text": [
      "Thirty days of python\n"
     ]
    }
   ],
   "source": [
    "print(challenge.capitalize())"
   ]
  },
  {
   "cell_type": "markdown",
   "id": "f0bcfca2",
   "metadata": {},
   "source": [
    "#### count()\n",
    "- returns occurrences of substring in string, count(substring, start=..,end=..). The start is a starting indexing for counting and end is the last index to count."
   ]
  },
  {
   "cell_type": "code",
   "execution_count": 68,
   "id": "8ae1b79b",
   "metadata": {},
   "outputs": [],
   "source": [
    "challenge = 'thirty days of python'"
   ]
  },
  {
   "cell_type": "code",
   "execution_count": 69,
   "id": "fc171e36",
   "metadata": {},
   "outputs": [
    {
     "name": "stdout",
     "output_type": "stream",
     "text": [
      "3\n"
     ]
    }
   ],
   "source": [
    "print(challenge.count('y'))"
   ]
  },
  {
   "cell_type": "code",
   "execution_count": 70,
   "id": "596dbf6f",
   "metadata": {},
   "outputs": [
    {
     "name": "stdout",
     "output_type": "stream",
     "text": [
      "1\n"
     ]
    }
   ],
   "source": [
    "print(challenge.count('y', 7, 14))"
   ]
  },
  {
   "cell_type": "code",
   "execution_count": 71,
   "id": "7f77c085",
   "metadata": {},
   "outputs": [
    {
     "name": "stdout",
     "output_type": "stream",
     "text": [
      "2\n"
     ]
    }
   ],
   "source": [
    "print(challenge.count('th'))"
   ]
  },
  {
   "cell_type": "markdown",
   "id": "0b1327aa",
   "metadata": {},
   "source": [
    "#### endswith()\n",
    "- checks if a string ends with a specific ending"
   ]
  },
  {
   "cell_type": "code",
   "execution_count": 72,
   "id": "ee5671aa",
   "metadata": {},
   "outputs": [],
   "source": [
    "challenge = 'thirty days of python'"
   ]
  },
  {
   "cell_type": "code",
   "execution_count": 73,
   "id": "a1189f7f",
   "metadata": {},
   "outputs": [
    {
     "name": "stdout",
     "output_type": "stream",
     "text": [
      "True\n"
     ]
    }
   ],
   "source": [
    "print(challenge.endswith('on'))"
   ]
  },
  {
   "cell_type": "code",
   "execution_count": 74,
   "id": "a1613880",
   "metadata": {},
   "outputs": [
    {
     "name": "stdout",
     "output_type": "stream",
     "text": [
      "False\n"
     ]
    }
   ],
   "source": [
    "print(challenge.endswith('tion'))"
   ]
  },
  {
   "cell_type": "markdown",
   "id": "3ffa6123",
   "metadata": {},
   "source": [
    "#### expandtabs()\n",
    "- replaces tab character with spaces. The default tab size is 8. It takes tab size argument"
   ]
  },
  {
   "cell_type": "code",
   "execution_count": 75,
   "id": "652cd0aa",
   "metadata": {},
   "outputs": [],
   "source": [
    "challenge = 'thirty\\tdays\\tof\\tpython'"
   ]
  },
  {
   "cell_type": "code",
   "execution_count": 76,
   "id": "7927f3cd",
   "metadata": {},
   "outputs": [
    {
     "name": "stdout",
     "output_type": "stream",
     "text": [
      "thirty  days    of      python\n"
     ]
    }
   ],
   "source": [
    "print(challenge.expandtabs())"
   ]
  },
  {
   "cell_type": "code",
   "execution_count": 77,
   "id": "3fcc0662",
   "metadata": {},
   "outputs": [
    {
     "name": "stdout",
     "output_type": "stream",
     "text": [
      "thirty    days      of        python\n"
     ]
    }
   ],
   "source": [
    "print(challenge.expandtabs(10))"
   ]
  },
  {
   "cell_type": "markdown",
   "id": "7b8ff3a0",
   "metadata": {},
   "source": [
    "#### find()\n",
    "- returns the index of the first occurrence of a subtring, if not found returns -1"
   ]
  },
  {
   "cell_type": "code",
   "execution_count": 78,
   "id": "0b68edc5",
   "metadata": {},
   "outputs": [],
   "source": [
    "challenge = 'thirty days of python'"
   ]
  },
  {
   "cell_type": "code",
   "execution_count": 80,
   "id": "bbf9d021",
   "metadata": {},
   "outputs": [
    {
     "name": "stdout",
     "output_type": "stream",
     "text": [
      "5\n"
     ]
    }
   ],
   "source": [
    "print(challenge.find('y'))"
   ]
  },
  {
   "cell_type": "code",
   "execution_count": 81,
   "id": "7df4e4f6",
   "metadata": {},
   "outputs": [
    {
     "name": "stdout",
     "output_type": "stream",
     "text": [
      "0\n"
     ]
    }
   ],
   "source": [
    "print(challenge.find('th'))"
   ]
  },
  {
   "cell_type": "code",
   "execution_count": 82,
   "id": "48715865",
   "metadata": {},
   "outputs": [
    {
     "name": "stdout",
     "output_type": "stream",
     "text": [
      "-1\n"
     ]
    }
   ],
   "source": [
    "print(challenge.find('w'))"
   ]
  },
  {
   "cell_type": "markdown",
   "id": "22beff8f",
   "metadata": {},
   "source": [
    "#### rfind()\n",
    "- returns the index of the last occurence of a substring, if not found returns -1"
   ]
  },
  {
   "cell_type": "code",
   "execution_count": 83,
   "id": "cb2e0fb6",
   "metadata": {},
   "outputs": [
    {
     "name": "stdout",
     "output_type": "stream",
     "text": [
      "16\n"
     ]
    }
   ],
   "source": [
    "print(challenge.rfind('y'))"
   ]
  },
  {
   "cell_type": "code",
   "execution_count": 84,
   "id": "07cbdaf0",
   "metadata": {},
   "outputs": [
    {
     "name": "stdout",
     "output_type": "stream",
     "text": [
      "17\n"
     ]
    }
   ],
   "source": [
    "print(challenge.rfind('th'))"
   ]
  },
  {
   "cell_type": "code",
   "execution_count": 85,
   "id": "6d6a9084",
   "metadata": {},
   "outputs": [
    {
     "name": "stdout",
     "output_type": "stream",
     "text": [
      "-1\n"
     ]
    }
   ],
   "source": [
    "print(challenge.rfind('w'))"
   ]
  },
  {
   "cell_type": "markdown",
   "id": "a685fde0",
   "metadata": {},
   "source": [
    "#### format()\n",
    "- formats strings into a nicer output"
   ]
  },
  {
   "cell_type": "code",
   "execution_count": 89,
   "id": "3f104511",
   "metadata": {},
   "outputs": [
    {
     "name": "stdout",
     "output_type": "stream",
     "text": [
      "She is Miku Piku. She is a hunter. She is 2 years old. She lives in the UK.\n"
     ]
    }
   ],
   "source": [
    "first_name = 'Miku'\n",
    "last_name = 'Piku'\n",
    "age = 2\n",
    "job = 'hunter'\n",
    "country = 'the UK'\n",
    "sentence = 'She is {} {}. She is a {}. She is {} years old. She lives in {}.'.format(first_name, last_name, job, age, country)\n",
    "print(sentence)"
   ]
  },
  {
   "cell_type": "code",
   "execution_count": 90,
   "id": "019326a5",
   "metadata": {},
   "outputs": [
    {
     "name": "stdout",
     "output_type": "stream",
     "text": [
      "The area of a circle with radius 10 is 314.0.\n"
     ]
    }
   ],
   "source": [
    "radius = 10\n",
    "pi = 3.14\n",
    "area = pi * radius ** 2\n",
    "result = 'The area of a circle with radius {} is {}.'.format(str(radius), str(area))\n",
    "print(result)"
   ]
  },
  {
   "cell_type": "markdown",
   "id": "489297e2",
   "metadata": {},
   "source": [
    "#### index()\n",
    "- returns the lowest index of a substring, additional arguments indicate starting and ending index(default 0 and string length -1). If the substing is not found it raises valueError."
   ]
  },
  {
   "cell_type": "code",
   "execution_count": 4,
   "id": "7bc678a3",
   "metadata": {},
   "outputs": [],
   "source": [
    "challenge = 'thirty days of python'\n",
    "sub_string = 'th'"
   ]
  },
  {
   "cell_type": "code",
   "execution_count": 5,
   "id": "eb7c86ba",
   "metadata": {},
   "outputs": [
    {
     "name": "stdout",
     "output_type": "stream",
     "text": [
      "0\n"
     ]
    }
   ],
   "source": [
    "print(challenge.index(sub_string))"
   ]
  },
  {
   "cell_type": "code",
   "execution_count": 6,
   "id": "ad705769",
   "metadata": {},
   "outputs": [
    {
     "name": "stdout",
     "output_type": "stream",
     "text": [
      "2\n"
     ]
    }
   ],
   "source": [
    "print(challenge.index('ir'))"
   ]
  },
  {
   "cell_type": "code",
   "execution_count": 7,
   "id": "ac48ac53",
   "metadata": {},
   "outputs": [
    {
     "name": "stdout",
     "output_type": "stream",
     "text": [
      "17\n"
     ]
    }
   ],
   "source": [
    "print(challenge.index(sub_string, 9))"
   ]
  },
  {
   "cell_type": "code",
   "execution_count": 9,
   "id": "b0afb594",
   "metadata": {},
   "outputs": [
    {
     "ename": "ValueError",
     "evalue": "substring not found",
     "output_type": "error",
     "traceback": [
      "\u001b[1;31m---------------------------------------------------------------------------\u001b[0m",
      "\u001b[1;31mValueError\u001b[0m                                Traceback (most recent call last)",
      "Cell \u001b[1;32mIn[9], line 1\u001b[0m\n\u001b[1;32m----> 1\u001b[0m \u001b[38;5;28mprint\u001b[39m(\u001b[43mchallenge\u001b[49m\u001b[38;5;241;43m.\u001b[39;49m\u001b[43mindex\u001b[49m\u001b[43m(\u001b[49m\u001b[43msub_string\u001b[49m\u001b[43m,\u001b[49m\u001b[43m \u001b[49m\u001b[38;5;241;43m18\u001b[39;49m\u001b[43m)\u001b[49m)\n",
      "\u001b[1;31mValueError\u001b[0m: substring not found"
     ]
    }
   ],
   "source": [
    "print(challenge.index(sub_string, 18))"
   ]
  },
  {
   "cell_type": "markdown",
   "id": "12db1ce1",
   "metadata": {},
   "source": [
    "#### rindex()\n",
    "- returns the highest index of a substring, additional arguments indicate starting and ending index"
   ]
  },
  {
   "cell_type": "code",
   "execution_count": 10,
   "id": "5274f7b2",
   "metadata": {},
   "outputs": [],
   "source": [
    "challenge = 'thirty days of python'\n",
    "sub_string = 'th'"
   ]
  },
  {
   "cell_type": "code",
   "execution_count": 11,
   "id": "f645c12e",
   "metadata": {},
   "outputs": [
    {
     "name": "stdout",
     "output_type": "stream",
     "text": [
      "17\n"
     ]
    }
   ],
   "source": [
    "print(challenge.rindex(sub_string))"
   ]
  },
  {
   "cell_type": "code",
   "execution_count": 12,
   "id": "eb6fe22f",
   "metadata": {},
   "outputs": [
    {
     "name": "stdout",
     "output_type": "stream",
     "text": [
      "0\n",
      "17\n"
     ]
    }
   ],
   "source": [
    "print(challenge.index(sub_string))\n",
    "print(challenge.rindex(sub_string))"
   ]
  },
  {
   "cell_type": "markdown",
   "id": "a829d288",
   "metadata": {},
   "source": [
    "#### isalnum()\n",
    "- checks alphanumeric character"
   ]
  },
  {
   "cell_type": "code",
   "execution_count": 13,
   "id": "e6355f68",
   "metadata": {},
   "outputs": [],
   "source": [
    "challenge = 'ThirtyDaysPython'"
   ]
  },
  {
   "cell_type": "code",
   "execution_count": 14,
   "id": "1ac63953",
   "metadata": {},
   "outputs": [
    {
     "name": "stdout",
     "output_type": "stream",
     "text": [
      "True\n"
     ]
    }
   ],
   "source": [
    "print(challenge.isalnum())"
   ]
  },
  {
   "cell_type": "code",
   "execution_count": 15,
   "id": "9ff21ecf",
   "metadata": {},
   "outputs": [],
   "source": [
    "challenge = '30DaysPython'"
   ]
  },
  {
   "cell_type": "code",
   "execution_count": 16,
   "id": "cc302ec0",
   "metadata": {},
   "outputs": [
    {
     "name": "stdout",
     "output_type": "stream",
     "text": [
      "True\n"
     ]
    }
   ],
   "source": [
    "print(challenge.isalnum())"
   ]
  },
  {
   "cell_type": "code",
   "execution_count": 17,
   "id": "b485f26c",
   "metadata": {},
   "outputs": [],
   "source": [
    "challenge = 'thirty days of python'"
   ]
  },
  {
   "cell_type": "code",
   "execution_count": 18,
   "id": "6f016e4c",
   "metadata": {},
   "outputs": [
    {
     "name": "stdout",
     "output_type": "stream",
     "text": [
      "False\n"
     ]
    }
   ],
   "source": [
    "print(challenge.isalnum()) #space is not aphanumeric"
   ]
  },
  {
   "cell_type": "code",
   "execution_count": 19,
   "id": "093d0c3e",
   "metadata": {},
   "outputs": [],
   "source": [
    "challenge = 'thirty days of python 2019'"
   ]
  },
  {
   "cell_type": "code",
   "execution_count": 20,
   "id": "f8acdd59",
   "metadata": {},
   "outputs": [
    {
     "name": "stdout",
     "output_type": "stream",
     "text": [
      "False\n"
     ]
    }
   ],
   "source": [
    "print(challenge.isalnum())"
   ]
  },
  {
   "cell_type": "markdown",
   "id": "4cfea2d3",
   "metadata": {},
   "source": [
    "#### isalpha()\n",
    "- checks if all string elements are alphabet characters (a-z and A-Z)"
   ]
  },
  {
   "cell_type": "code",
   "execution_count": 1,
   "id": "8ca8c5df",
   "metadata": {},
   "outputs": [
    {
     "name": "stdout",
     "output_type": "stream",
     "text": [
      "False\n"
     ]
    }
   ],
   "source": [
    "challenge = 'thirty days of python'\n",
    "print(challenge.isalpha())"
   ]
  },
  {
   "cell_type": "code",
   "execution_count": 2,
   "id": "610e57a6",
   "metadata": {},
   "outputs": [
    {
     "name": "stdout",
     "output_type": "stream",
     "text": [
      "True\n"
     ]
    }
   ],
   "source": [
    "challenge = 'thirtydaysofpython'\n",
    "print(challenge.isalpha())"
   ]
  },
  {
   "cell_type": "code",
   "execution_count": 3,
   "id": "569bc3d2",
   "metadata": {},
   "outputs": [],
   "source": [
    "num = '1234'"
   ]
  },
  {
   "cell_type": "code",
   "execution_count": 4,
   "id": "9bf89a2e",
   "metadata": {},
   "outputs": [
    {
     "name": "stdout",
     "output_type": "stream",
     "text": [
      "False\n"
     ]
    }
   ],
   "source": [
    "print(num.isalpha())"
   ]
  },
  {
   "cell_type": "markdown",
   "id": "2a9fc50a",
   "metadata": {},
   "source": [
    "#### isdecimal()\n",
    "- checks if all characters in a string are decimal (0-9)"
   ]
  },
  {
   "cell_type": "code",
   "execution_count": 5,
   "id": "c5d8e6ef",
   "metadata": {},
   "outputs": [
    {
     "name": "stdout",
     "output_type": "stream",
     "text": [
      "False\n"
     ]
    }
   ],
   "source": [
    "challenge = 'thirty days of python'\n",
    "print(challenge.isdecimal())"
   ]
  },
  {
   "cell_type": "code",
   "execution_count": 7,
   "id": "a2b57671",
   "metadata": {},
   "outputs": [
    {
     "name": "stdout",
     "output_type": "stream",
     "text": [
      "True\n"
     ]
    }
   ],
   "source": [
    "challenge = '123'\n",
    "print(challenge.isdecimal())"
   ]
  },
  {
   "cell_type": "code",
   "execution_count": 8,
   "id": "a38bce32",
   "metadata": {},
   "outputs": [
    {
     "name": "stdout",
     "output_type": "stream",
     "text": [
      "False\n"
     ]
    }
   ],
   "source": [
    "challenge = '12 3'\n",
    "print(challenge.isdecimal())"
   ]
  },
  {
   "cell_type": "code",
   "execution_count": 9,
   "id": "284e4998",
   "metadata": {},
   "outputs": [
    {
     "name": "stdout",
     "output_type": "stream",
     "text": [
      "False\n"
     ]
    }
   ],
   "source": [
    "challenge = '\\u00B2'\n",
    "print(challenge.isdecimal())"
   ]
  },
  {
   "cell_type": "code",
   "execution_count": 18,
   "id": "c2dc816b",
   "metadata": {},
   "outputs": [
    {
     "name": "stdout",
     "output_type": "stream",
     "text": [
      "False\n"
     ]
    }
   ],
   "source": [
    "challenge = '10.5'\n",
    "print(challenge.isdecimal())"
   ]
  },
  {
   "cell_type": "markdown",
   "id": "67d94460",
   "metadata": {},
   "source": [
    "#### isdigit()\n",
    "- checks if all characters in a string are numbers (0-9 and some other unicode characters for numbers)"
   ]
  },
  {
   "cell_type": "code",
   "execution_count": 10,
   "id": "e293c821",
   "metadata": {},
   "outputs": [
    {
     "name": "stdout",
     "output_type": "stream",
     "text": [
      "False\n"
     ]
    }
   ],
   "source": [
    "challenge = 'Thirty'\n",
    "print(challenge.isdigit())"
   ]
  },
  {
   "cell_type": "code",
   "execution_count": 11,
   "id": "edf534f9",
   "metadata": {},
   "outputs": [
    {
     "name": "stdout",
     "output_type": "stream",
     "text": [
      "True\n"
     ]
    }
   ],
   "source": [
    "challenge = '30'\n",
    "print(challenge.isdigit())"
   ]
  },
  {
   "cell_type": "code",
   "execution_count": 13,
   "id": "d5139226",
   "metadata": {},
   "outputs": [
    {
     "name": "stdout",
     "output_type": "stream",
     "text": [
      "True\n"
     ]
    }
   ],
   "source": [
    "challenge = '\\u00B2'\n",
    "print(challenge.isdigit())"
   ]
  },
  {
   "cell_type": "code",
   "execution_count": 17,
   "id": "bfc349b5",
   "metadata": {},
   "outputs": [
    {
     "name": "stdout",
     "output_type": "stream",
     "text": [
      "False\n"
     ]
    }
   ],
   "source": [
    "challenge = '10.5'\n",
    "print(challenge.isdigit())"
   ]
  },
  {
   "cell_type": "markdown",
   "id": "66c18886",
   "metadata": {},
   "source": [
    "#### isnumeric()\n",
    "- checks is all characters in a string are numbers or number related (just like isdigit(), just accepts more symbols, like 1/2)"
   ]
  },
  {
   "cell_type": "code",
   "execution_count": 14,
   "id": "f7960c0f",
   "metadata": {},
   "outputs": [
    {
     "name": "stdout",
     "output_type": "stream",
     "text": [
      "True\n"
     ]
    }
   ],
   "source": [
    "num = '10'\n",
    "print(num.isnumeric())"
   ]
  },
  {
   "cell_type": "code",
   "execution_count": 15,
   "id": "9b5e997d",
   "metadata": {},
   "outputs": [
    {
     "name": "stdout",
     "output_type": "stream",
     "text": [
      "True\n"
     ]
    }
   ],
   "source": [
    "num = '\\u00B2'\n",
    "print(num.isnumeric())"
   ]
  },
  {
   "cell_type": "code",
   "execution_count": 16,
   "id": "ed455ee7",
   "metadata": {},
   "outputs": [
    {
     "name": "stdout",
     "output_type": "stream",
     "text": [
      "False\n"
     ]
    }
   ],
   "source": [
    "num = '10.5'\n",
    "print(num.isnumeric())"
   ]
  },
  {
   "cell_type": "markdown",
   "id": "bda9c9a1",
   "metadata": {},
   "source": [
    "#### isidentifier()\n",
    "- checks for a valid identifier - it checks if a string is a valid variable name"
   ]
  },
  {
   "cell_type": "code",
   "execution_count": 19,
   "id": "c3c7716f",
   "metadata": {},
   "outputs": [
    {
     "name": "stdout",
     "output_type": "stream",
     "text": [
      "False\n"
     ]
    }
   ],
   "source": [
    "challenge = '30DaysOfPython'\n",
    "print(challenge.isidentifier()) #false because it starts with a number"
   ]
  },
  {
   "cell_type": "code",
   "execution_count": 20,
   "id": "93f89daa",
   "metadata": {},
   "outputs": [
    {
     "name": "stdout",
     "output_type": "stream",
     "text": [
      "True\n"
     ]
    }
   ],
   "source": [
    "challenge = 'thirty_days_of_python'\n",
    "print(challenge.isidentifier())"
   ]
  },
  {
   "cell_type": "code",
   "execution_count": 21,
   "id": "61d0b625",
   "metadata": {},
   "outputs": [
    {
     "name": "stdout",
     "output_type": "stream",
     "text": [
      "False\n"
     ]
    }
   ],
   "source": [
    "challenge = 'Thirty days of Python'\n",
    "print(challenge.isidentifier())"
   ]
  },
  {
   "cell_type": "markdown",
   "id": "4ec26219",
   "metadata": {},
   "source": [
    "#### islower()\n",
    "- checks if all alphabet characters in the string are lowercase"
   ]
  },
  {
   "cell_type": "code",
   "execution_count": 22,
   "id": "89997ffb",
   "metadata": {},
   "outputs": [
    {
     "name": "stdout",
     "output_type": "stream",
     "text": [
      "True\n"
     ]
    }
   ],
   "source": [
    "challenge = 'thirty days of pyhton'\n",
    "print(challenge.islower())"
   ]
  },
  {
   "cell_type": "code",
   "execution_count": 23,
   "id": "2d841db1",
   "metadata": {},
   "outputs": [
    {
     "name": "stdout",
     "output_type": "stream",
     "text": [
      "False\n"
     ]
    }
   ],
   "source": [
    "challenge = 'Thirty Days of Python'\n",
    "print(challenge.islower())"
   ]
  },
  {
   "cell_type": "markdown",
   "id": "65c5546c",
   "metadata": {},
   "source": [
    "#### isupper()\n",
    "- checks if all alphabet characters in the string are uppercase"
   ]
  },
  {
   "cell_type": "code",
   "execution_count": 24,
   "id": "580e0323",
   "metadata": {},
   "outputs": [
    {
     "name": "stdout",
     "output_type": "stream",
     "text": [
      "False\n"
     ]
    }
   ],
   "source": [
    "challenge = 'thirty days of pyhton'\n",
    "print(challenge.isupper())"
   ]
  },
  {
   "cell_type": "code",
   "execution_count": 25,
   "id": "6e3a436b",
   "metadata": {},
   "outputs": [
    {
     "name": "stdout",
     "output_type": "stream",
     "text": [
      "True\n"
     ]
    }
   ],
   "source": [
    "challenge = 'THIRTY DAYS OF PYTHON'\n",
    "print(challenge.isupper())"
   ]
  },
  {
   "cell_type": "markdown",
   "id": "e790e5d1",
   "metadata": {},
   "source": [
    "#### join()\n",
    "- returns a concatenated string"
   ]
  },
  {
   "cell_type": "code",
   "execution_count": 28,
   "id": "60f4dbfe",
   "metadata": {},
   "outputs": [],
   "source": [
    "miku_likes = ['treaties ', 'playsies ', 'outsidies']\n",
    "result = ''.join(miku_likes)"
   ]
  },
  {
   "cell_type": "code",
   "execution_count": 29,
   "id": "7e99dbd3",
   "metadata": {},
   "outputs": [
    {
     "name": "stdout",
     "output_type": "stream",
     "text": [
      "treaties playsies outsidies\n"
     ]
    }
   ],
   "source": [
    "print(result)"
   ]
  },
  {
   "cell_type": "code",
   "execution_count": 30,
   "id": "0a422bdd",
   "metadata": {},
   "outputs": [],
   "source": [
    "result1 = '# '.join(miku_likes)"
   ]
  },
  {
   "cell_type": "code",
   "execution_count": 31,
   "id": "5ba0af2f",
   "metadata": {},
   "outputs": [
    {
     "name": "stdout",
     "output_type": "stream",
     "text": [
      "treaties # playsies # outsidies\n"
     ]
    }
   ],
   "source": [
    "print(result1)"
   ]
  },
  {
   "cell_type": "markdown",
   "id": "f3631210",
   "metadata": {},
   "source": [
    "#### strip()\n",
    "- removes all given characters from the beginning and end of a string"
   ]
  },
  {
   "cell_type": "code",
   "execution_count": 32,
   "id": "90ff4cfc",
   "metadata": {},
   "outputs": [
    {
     "name": "stdout",
     "output_type": "stream",
     "text": [
      "irty days of py\n"
     ]
    }
   ],
   "source": [
    "challenge = 'thirty days of pythoonnn'\n",
    "print(challenge.strip('noth'))"
   ]
  },
  {
   "cell_type": "markdown",
   "id": "6bc7ca64",
   "metadata": {},
   "source": [
    "#### replace()\n",
    "- replaces substring witha given string"
   ]
  },
  {
   "cell_type": "code",
   "execution_count": 33,
   "id": "87548982",
   "metadata": {},
   "outputs": [
    {
     "name": "stdout",
     "output_type": "stream",
     "text": [
      "thirty days of coding\n"
     ]
    }
   ],
   "source": [
    "challenge = 'thirty days of python'\n",
    "print(challenge.replace('python', 'coding'))"
   ]
  },
  {
   "cell_type": "markdown",
   "id": "a88e5a98",
   "metadata": {},
   "source": [
    "#### split()\n",
    "- splits the string, using given string or space as a separator"
   ]
  },
  {
   "cell_type": "code",
   "execution_count": 34,
   "id": "990cf514",
   "metadata": {},
   "outputs": [
    {
     "name": "stdout",
     "output_type": "stream",
     "text": [
      "['thirty', 'days', 'of', 'python']\n"
     ]
    }
   ],
   "source": [
    "challenge = 'thirty days of python'\n",
    "print(challenge.split())"
   ]
  },
  {
   "cell_type": "code",
   "execution_count": 35,
   "id": "b8f56ae5",
   "metadata": {},
   "outputs": [
    {
     "name": "stdout",
     "output_type": "stream",
     "text": [
      "['thirty', 'days', 'of', 'python']\n"
     ]
    }
   ],
   "source": [
    "challenge = 'thirty, days, of, python'\n",
    "print(challenge.split(', '))"
   ]
  },
  {
   "cell_type": "code",
   "execution_count": 37,
   "id": "8bbcd5b1",
   "metadata": {},
   "outputs": [
    {
     "name": "stdout",
     "output_type": "stream",
     "text": [
      "['thirt', ' da', 's of p', 'thon']\n"
     ]
    }
   ],
   "source": [
    "challenge = 'thirty days of python'\n",
    "print(challenge.split('y'))"
   ]
  },
  {
   "cell_type": "markdown",
   "id": "1447b384",
   "metadata": {},
   "source": [
    "#### title()\n",
    "- returns a title cased string"
   ]
  },
  {
   "cell_type": "code",
   "execution_count": 38,
   "id": "546661fe",
   "metadata": {},
   "outputs": [
    {
     "name": "stdout",
     "output_type": "stream",
     "text": [
      "Thirty Days Of Python\n"
     ]
    }
   ],
   "source": [
    "challenge = 'thirty days of python'\n",
    "print(challenge.title())"
   ]
  },
  {
   "cell_type": "markdown",
   "id": "c83d8966",
   "metadata": {},
   "source": [
    "#### swapcase()\n",
    "- converts all uppercase characters to lowercase and all lowercase to uppercase"
   ]
  },
  {
   "cell_type": "code",
   "execution_count": 39,
   "id": "1b45d7ce",
   "metadata": {},
   "outputs": [
    {
     "name": "stdout",
     "output_type": "stream",
     "text": [
      "THIRTY DAYS OF PYTHON\n"
     ]
    }
   ],
   "source": [
    "challenge = 'thirty days of python'\n",
    "print(challenge.swapcase())"
   ]
  },
  {
   "cell_type": "code",
   "execution_count": 40,
   "id": "3464afbd",
   "metadata": {},
   "outputs": [
    {
     "name": "stdout",
     "output_type": "stream",
     "text": [
      "tHIRTY dAYS oF pYTHON\n"
     ]
    }
   ],
   "source": [
    "challenge = 'Thirty Days Of Python'\n",
    "print(challenge.swapcase())"
   ]
  },
  {
   "cell_type": "markdown",
   "id": "21a98b88",
   "metadata": {},
   "source": [
    "#### stratswith()\n",
    "- checks is string strarts with the specified string"
   ]
  },
  {
   "cell_type": "code",
   "execution_count": 41,
   "id": "29cb1f09",
   "metadata": {},
   "outputs": [
    {
     "name": "stdout",
     "output_type": "stream",
     "text": [
      "True\n"
     ]
    }
   ],
   "source": [
    "challenge = 'thirty days of python'\n",
    "print(challenge.startswith('thirty'))"
   ]
  },
  {
   "cell_type": "code",
   "execution_count": 42,
   "id": "891a7514",
   "metadata": {},
   "outputs": [
    {
     "name": "stdout",
     "output_type": "stream",
     "text": [
      "False\n"
     ]
    }
   ],
   "source": [
    "challenge = 'thirty days of python'\n",
    "print(challenge.startswith('Thirty'))"
   ]
  },
  {
   "cell_type": "markdown",
   "id": "6ae11c79",
   "metadata": {},
   "source": [
    "### Exercises"
   ]
  },
  {
   "cell_type": "markdown",
   "id": "5fabca7c",
   "metadata": {},
   "source": [
    "1. Concatenate the string 'Thirty', 'Days', 'Of', 'Python' to a single string, 'Thirty Days Of Python'."
   ]
  },
  {
   "cell_type": "code",
   "execution_count": 45,
   "id": "d1283a0b",
   "metadata": {},
   "outputs": [],
   "source": [
    "course = ['Thirty', 'Days', 'Of', 'Python']\n",
    "result = ' '.join(course)"
   ]
  },
  {
   "cell_type": "code",
   "execution_count": 46,
   "id": "734df8e1",
   "metadata": {},
   "outputs": [
    {
     "name": "stdout",
     "output_type": "stream",
     "text": [
      "Thirty Days Of Python\n"
     ]
    }
   ],
   "source": [
    "print(result)"
   ]
  },
  {
   "cell_type": "markdown",
   "id": "5d324dfa",
   "metadata": {},
   "source": [
    "2. Concatenate the string 'Coding', 'For' , 'All' to a single string, 'Coding For All'."
   ]
  },
  {
   "cell_type": "code",
   "execution_count": 47,
   "id": "c8dee3f5",
   "metadata": {},
   "outputs": [
    {
     "name": "stdout",
     "output_type": "stream",
     "text": [
      "Coding For All\n"
     ]
    }
   ],
   "source": [
    "print('Coding' + ' ' + 'For' + ' ' + 'All')"
   ]
  },
  {
   "cell_type": "markdown",
   "id": "792da339",
   "metadata": {},
   "source": [
    "3. Declare a variable named company and assign it to an initial value \"Coding For All\"."
   ]
  },
  {
   "cell_type": "code",
   "execution_count": 48,
   "id": "dbcb1f36",
   "metadata": {},
   "outputs": [],
   "source": [
    "company = 'Coding For All'"
   ]
  },
  {
   "cell_type": "markdown",
   "id": "281d8f46",
   "metadata": {},
   "source": [
    "4. Print the variable company using print()."
   ]
  },
  {
   "cell_type": "code",
   "execution_count": 49,
   "id": "2fd8a133",
   "metadata": {},
   "outputs": [
    {
     "name": "stdout",
     "output_type": "stream",
     "text": [
      "Coding For All\n"
     ]
    }
   ],
   "source": [
    "print(company)"
   ]
  },
  {
   "cell_type": "markdown",
   "id": "4c7817c1",
   "metadata": {},
   "source": [
    "5. Print the length of the company string using len() method and print()."
   ]
  },
  {
   "cell_type": "code",
   "execution_count": 50,
   "id": "06732984",
   "metadata": {},
   "outputs": [
    {
     "name": "stdout",
     "output_type": "stream",
     "text": [
      "14\n"
     ]
    }
   ],
   "source": [
    "print(len(company))"
   ]
  },
  {
   "cell_type": "markdown",
   "id": "cd4f0f7b",
   "metadata": {},
   "source": [
    "6. Change all the characters to uppercase letters using upper() method."
   ]
  },
  {
   "cell_type": "code",
   "execution_count": 51,
   "id": "d61abaf5",
   "metadata": {},
   "outputs": [
    {
     "name": "stdout",
     "output_type": "stream",
     "text": [
      "CODING FOR ALL\n"
     ]
    }
   ],
   "source": [
    "print(company.upper())"
   ]
  },
  {
   "cell_type": "markdown",
   "id": "0c6e6459",
   "metadata": {},
   "source": [
    "7. Change all the characters to lowercase letters using lower() method."
   ]
  },
  {
   "cell_type": "code",
   "execution_count": 52,
   "id": "00b375d4",
   "metadata": {},
   "outputs": [
    {
     "name": "stdout",
     "output_type": "stream",
     "text": [
      "coding for all\n"
     ]
    }
   ],
   "source": [
    "print(company.lower())"
   ]
  },
  {
   "cell_type": "markdown",
   "id": "347256fa",
   "metadata": {},
   "source": [
    "8. Use capitalize(), title(), swapcase() methods to format the value of the string Coding For All."
   ]
  },
  {
   "cell_type": "code",
   "execution_count": 53,
   "id": "4d0d52dd",
   "metadata": {},
   "outputs": [
    {
     "name": "stdout",
     "output_type": "stream",
     "text": [
      "Coding for all\n"
     ]
    }
   ],
   "source": [
    "print(company.capitalize())"
   ]
  },
  {
   "cell_type": "code",
   "execution_count": 54,
   "id": "2e7c2943",
   "metadata": {},
   "outputs": [
    {
     "name": "stdout",
     "output_type": "stream",
     "text": [
      "Coding For All\n"
     ]
    }
   ],
   "source": [
    "print(company.title())"
   ]
  },
  {
   "cell_type": "code",
   "execution_count": 55,
   "id": "ede5fbb6",
   "metadata": {},
   "outputs": [
    {
     "name": "stdout",
     "output_type": "stream",
     "text": [
      "cODING fOR aLL\n"
     ]
    }
   ],
   "source": [
    "print(company.swapcase())"
   ]
  },
  {
   "cell_type": "markdown",
   "id": "c4dbd09f",
   "metadata": {},
   "source": [
    "9. Cut(slice) out the first word of Coding For All string."
   ]
  },
  {
   "cell_type": "code",
   "execution_count": 57,
   "id": "74099c5c",
   "metadata": {},
   "outputs": [
    {
     "name": "stdout",
     "output_type": "stream",
     "text": [
      " For All\n"
     ]
    }
   ],
   "source": [
    "print(company.strip('Coding'))"
   ]
  },
  {
   "cell_type": "markdown",
   "id": "fe84448b",
   "metadata": {},
   "source": [
    "10. Check if Coding For All string contains a word Coding using the method index, find or other methods."
   ]
  },
  {
   "cell_type": "code",
   "execution_count": 58,
   "id": "5f602078",
   "metadata": {},
   "outputs": [
    {
     "name": "stdout",
     "output_type": "stream",
     "text": [
      "0\n"
     ]
    }
   ],
   "source": [
    "print(company.find('Coding'))"
   ]
  },
  {
   "cell_type": "code",
   "execution_count": 59,
   "id": "de5ffa89",
   "metadata": {},
   "outputs": [
    {
     "data": {
      "text/plain": [
       "True"
      ]
     },
     "execution_count": 59,
     "metadata": {},
     "output_type": "execute_result"
    }
   ],
   "source": [
    "'Coding' in company"
   ]
  },
  {
   "cell_type": "code",
   "execution_count": 60,
   "id": "a56b7f6b",
   "metadata": {},
   "outputs": [
    {
     "name": "stdout",
     "output_type": "stream",
     "text": [
      "0\n"
     ]
    }
   ],
   "source": [
    "print(company.index('Coding'))"
   ]
  },
  {
   "cell_type": "markdown",
   "id": "ca198f32",
   "metadata": {},
   "source": [
    "11. Replace the word coding in the string 'Coding For All' to Python."
   ]
  },
  {
   "cell_type": "code",
   "execution_count": 63,
   "id": "28fc6866",
   "metadata": {},
   "outputs": [],
   "source": [
    "new_company = (company.replace('Coding', 'Python'))"
   ]
  },
  {
   "cell_type": "code",
   "execution_count": 64,
   "id": "63212781",
   "metadata": {},
   "outputs": [
    {
     "name": "stdout",
     "output_type": "stream",
     "text": [
      "Python For All\n"
     ]
    }
   ],
   "source": [
    "print(new_company)"
   ]
  },
  {
   "cell_type": "markdown",
   "id": "2921698a",
   "metadata": {},
   "source": [
    "12. Change Python for All to Python for Everyone using the replace method or other methods."
   ]
  },
  {
   "cell_type": "code",
   "execution_count": 65,
   "id": "e90ba6d9",
   "metadata": {},
   "outputs": [
    {
     "name": "stdout",
     "output_type": "stream",
     "text": [
      "Python For Everyone\n"
     ]
    }
   ],
   "source": [
    "print(new_company.replace('All', 'Everyone'))"
   ]
  },
  {
   "cell_type": "markdown",
   "id": "78cb0b6d",
   "metadata": {},
   "source": [
    "13. Split the string 'Coding For All' using space as the separator (split())"
   ]
  },
  {
   "cell_type": "code",
   "execution_count": 66,
   "id": "802d0dd2",
   "metadata": {},
   "outputs": [
    {
     "name": "stdout",
     "output_type": "stream",
     "text": [
      "['Coding', 'For', 'All']\n"
     ]
    }
   ],
   "source": [
    "print(company.split())"
   ]
  },
  {
   "cell_type": "markdown",
   "id": "68592a3c",
   "metadata": {},
   "source": [
    "14. \"Facebook, Google, Microsoft, Apple, IBM, Oracle, Amazon\" split the string at the comma."
   ]
  },
  {
   "cell_type": "code",
   "execution_count": 67,
   "id": "67cfa51a",
   "metadata": {},
   "outputs": [
    {
     "name": "stdout",
     "output_type": "stream",
     "text": [
      "['Facebook', ' Google', ' Microsoft', ' Apple', ' IBM', ' Oracle', ' Amazon']\n"
     ]
    }
   ],
   "source": [
    "print(\"Facebook, Google, Microsoft, Apple, IBM, Oracle, Amazon\".split(','))"
   ]
  },
  {
   "cell_type": "markdown",
   "id": "6dd64af6",
   "metadata": {},
   "source": [
    "15. What is the character at index 0 in the string Coding For All."
   ]
  },
  {
   "cell_type": "code",
   "execution_count": 68,
   "id": "ba724d43",
   "metadata": {},
   "outputs": [
    {
     "name": "stdout",
     "output_type": "stream",
     "text": [
      "C\n"
     ]
    }
   ],
   "source": [
    "print(company[0])"
   ]
  },
  {
   "cell_type": "markdown",
   "id": "9055fdd2",
   "metadata": {},
   "source": [
    "16. What is the last index of the string Coding For All."
   ]
  },
  {
   "cell_type": "code",
   "execution_count": 70,
   "id": "a813c5a7",
   "metadata": {},
   "outputs": [
    {
     "name": "stdout",
     "output_type": "stream",
     "text": [
      "13\n"
     ]
    }
   ],
   "source": [
    "print(len(company) - 1)"
   ]
  },
  {
   "cell_type": "markdown",
   "id": "3565ea76",
   "metadata": {},
   "source": [
    "17. What character is at index 10 in \"Coding For All\" string."
   ]
  },
  {
   "cell_type": "code",
   "execution_count": 72,
   "id": "3224dc10",
   "metadata": {},
   "outputs": [
    {
     "name": "stdout",
     "output_type": "stream",
     "text": [
      " \n"
     ]
    }
   ],
   "source": [
    "print(company[10]) #space"
   ]
  },
  {
   "cell_type": "markdown",
   "id": "ce58d1a7",
   "metadata": {},
   "source": [
    "18. Create an acronym or an abbreviation for the name 'Python For Everyone'."
   ]
  },
  {
   "cell_type": "code",
   "execution_count": 1,
   "id": "542397eb",
   "metadata": {},
   "outputs": [],
   "source": [
    "new_company = 'Python For Everyone'"
   ]
  },
  {
   "cell_type": "code",
   "execution_count": 3,
   "id": "c88ed8e4",
   "metadata": {},
   "outputs": [
    {
     "name": "stdout",
     "output_type": "stream",
     "text": [
      "PFE\n"
     ]
    }
   ],
   "source": [
    "acronym = new_company[0] + new_company[7] + new_company[11]\n",
    "print(acronym)"
   ]
  },
  {
   "cell_type": "markdown",
   "id": "096f5877",
   "metadata": {},
   "source": [
    "19. Create an acronym or an abbreviation for the name 'Coding For All'."
   ]
  },
  {
   "cell_type": "code",
   "execution_count": 4,
   "id": "9b55199c",
   "metadata": {},
   "outputs": [],
   "source": [
    "company = 'Coding For All'"
   ]
  },
  {
   "cell_type": "code",
   "execution_count": 6,
   "id": "0052214e",
   "metadata": {},
   "outputs": [
    {
     "name": "stdout",
     "output_type": "stream",
     "text": [
      "CFA\n"
     ]
    }
   ],
   "source": [
    "acronym1 = company[0] + company[7] + company[11]\n",
    "print(acronym1)"
   ]
  },
  {
   "cell_type": "markdown",
   "id": "a58f1b5e",
   "metadata": {},
   "source": [
    "20. Use index to determine the position of the first occurrence of C in Coding For All."
   ]
  },
  {
   "cell_type": "code",
   "execution_count": 7,
   "id": "230b7c93",
   "metadata": {},
   "outputs": [
    {
     "name": "stdout",
     "output_type": "stream",
     "text": [
      "0\n"
     ]
    }
   ],
   "source": [
    "print(company.index('C'))"
   ]
  },
  {
   "cell_type": "markdown",
   "id": "d9134874",
   "metadata": {},
   "source": [
    "21. Use index to determine the position of the first occurrence of F in Coding For All."
   ]
  },
  {
   "cell_type": "code",
   "execution_count": 8,
   "id": "d13677ea",
   "metadata": {},
   "outputs": [
    {
     "name": "stdout",
     "output_type": "stream",
     "text": [
      "7\n"
     ]
    }
   ],
   "source": [
    "print(company.index('F'))"
   ]
  },
  {
   "cell_type": "markdown",
   "id": "fff0176f",
   "metadata": {},
   "source": [
    "22. Use rfind to determine the position of the last occurrence of l in Coding For All People."
   ]
  },
  {
   "cell_type": "code",
   "execution_count": 9,
   "id": "bb15f9f4",
   "metadata": {},
   "outputs": [
    {
     "name": "stdout",
     "output_type": "stream",
     "text": [
      "19\n"
     ]
    }
   ],
   "source": [
    "print('Coding For All People'.rindex('l'))"
   ]
  },
  {
   "cell_type": "markdown",
   "id": "9605a67c",
   "metadata": {},
   "source": [
    "23. Use index or find to find the position of the first occurrence of the word 'because' in the following sentence: 'You cannot end a sentence with because because because is a conjunction'"
   ]
  },
  {
   "cell_type": "code",
   "execution_count": 10,
   "id": "15366c9e",
   "metadata": {},
   "outputs": [],
   "source": [
    "sentence = 'You cannot end a sentence with because because because is a conjunction'"
   ]
  },
  {
   "cell_type": "code",
   "execution_count": 11,
   "id": "c2e107d9",
   "metadata": {},
   "outputs": [
    {
     "name": "stdout",
     "output_type": "stream",
     "text": [
      "31\n"
     ]
    }
   ],
   "source": [
    "print(sentence.find('because'))"
   ]
  },
  {
   "cell_type": "markdown",
   "id": "a1d5c62c",
   "metadata": {},
   "source": [
    "24. Use rindex to find the position of the last occurrence of the word because in the following sentence: 'You cannot end a sentence with because because because is a conjunction'"
   ]
  },
  {
   "cell_type": "code",
   "execution_count": 12,
   "id": "efe58eb4",
   "metadata": {},
   "outputs": [
    {
     "name": "stdout",
     "output_type": "stream",
     "text": [
      "47\n"
     ]
    }
   ],
   "source": [
    "print(sentence.rindex('because'))"
   ]
  },
  {
   "cell_type": "markdown",
   "id": "1ddb95f2",
   "metadata": {},
   "source": [
    "25. Slice out the phrase 'because because because' in the following sentence: 'You cannot end a sentence with because because because is a conjunction'"
   ]
  },
  {
   "cell_type": "code",
   "execution_count": 22,
   "id": "2b70141f",
   "metadata": {},
   "outputs": [
    {
     "name": "stdout",
     "output_type": "stream",
     "text": [
      "because because because\n"
     ]
    }
   ],
   "source": [
    "phrase = sentence[31: 31 + len('because because because')] \n",
    "print(phrase)"
   ]
  },
  {
   "cell_type": "markdown",
   "id": "7781825d",
   "metadata": {},
   "source": [
    "26. Does ''Coding For All' start with a substring Coding?"
   ]
  },
  {
   "cell_type": "code",
   "execution_count": 23,
   "id": "56b05fa9",
   "metadata": {},
   "outputs": [
    {
     "name": "stdout",
     "output_type": "stream",
     "text": [
      "True\n"
     ]
    }
   ],
   "source": [
    "print(company.startswith('Coding'))"
   ]
  },
  {
   "cell_type": "markdown",
   "id": "54b04e13",
   "metadata": {},
   "source": [
    "27. Does 'Coding For All' end with a substring coding?"
   ]
  },
  {
   "cell_type": "code",
   "execution_count": 24,
   "id": "af492348",
   "metadata": {},
   "outputs": [
    {
     "name": "stdout",
     "output_type": "stream",
     "text": [
      "False\n"
     ]
    }
   ],
   "source": [
    "print(company.endswith('coding'))"
   ]
  },
  {
   "cell_type": "markdown",
   "id": "aca8ae97",
   "metadata": {},
   "source": [
    "28. '   Coding For All      '  , remove the left and right trailing spaces in the given string."
   ]
  },
  {
   "cell_type": "code",
   "execution_count": 26,
   "id": "042024d1",
   "metadata": {},
   "outputs": [
    {
     "name": "stdout",
     "output_type": "stream",
     "text": [
      "Coding For All\n"
     ]
    }
   ],
   "source": [
    "print(' Coding For All '.strip())"
   ]
  },
  {
   "cell_type": "code",
   "execution_count": 27,
   "id": "d2783a5e",
   "metadata": {
    "scrolled": true
   },
   "outputs": [
    {
     "name": "stdout",
     "output_type": "stream",
     "text": [
      " Coding For All \n"
     ]
    }
   ],
   "source": [
    "print(' Coding For All ')"
   ]
  },
  {
   "cell_type": "markdown",
   "id": "4dc795c6",
   "metadata": {},
   "source": [
    "29. Which one of the following variables return True when we use the method isidentifier():\n",
    " - 30DaysOfPython\n",
    " - thirty_days_of_python"
   ]
  },
  {
   "cell_type": "code",
   "execution_count": 28,
   "id": "ce59a04b",
   "metadata": {},
   "outputs": [
    {
     "name": "stdout",
     "output_type": "stream",
     "text": [
      "False\n"
     ]
    }
   ],
   "source": [
    "print('30DaysOfPython'.isidentifier())"
   ]
  },
  {
   "cell_type": "code",
   "execution_count": 29,
   "id": "6f4b9482",
   "metadata": {},
   "outputs": [
    {
     "name": "stdout",
     "output_type": "stream",
     "text": [
      "True\n"
     ]
    }
   ],
   "source": [
    "print('thirty_days_of_python'.isidentifier())"
   ]
  },
  {
   "cell_type": "markdown",
   "id": "0359b307",
   "metadata": {},
   "source": [
    "30. The following list contains the names of some of python libraries: ['Django', 'Flask', 'Bottle', 'Pyramid', 'Falcon']. Join the list with a hash with space string."
   ]
  },
  {
   "cell_type": "code",
   "execution_count": 30,
   "id": "d6a11873",
   "metadata": {},
   "outputs": [
    {
     "name": "stdout",
     "output_type": "stream",
     "text": [
      "Django# Flask# Bottle# Pyramid# Falcon\n"
     ]
    }
   ],
   "source": [
    "python_libraries = ['Django', 'Flask', 'Bottle', 'Pyramid', 'Falcon']\n",
    "joined_list = '# '.join(python_libraries)\n",
    "print(joined_list)"
   ]
  },
  {
   "cell_type": "markdown",
   "id": "be4c0256",
   "metadata": {},
   "source": [
    "31. Use the new line escape sequence to separate the following sentences"
   ]
  },
  {
   "cell_type": "code",
   "execution_count": 32,
   "id": "97cc86a0",
   "metadata": {},
   "outputs": [
    {
     "name": "stdout",
     "output_type": "stream",
     "text": [
      "I am enjoying this challenge.\n",
      "I just wonder what is next.\n"
     ]
    }
   ],
   "source": [
    "print('I am enjoying this challenge.\\nI just wonder what is next.')"
   ]
  },
  {
   "cell_type": "markdown",
   "id": "71ad89f4",
   "metadata": {},
   "source": [
    "32. Use a tab escape sequence to write the following lines."
   ]
  },
  {
   "cell_type": "code",
   "execution_count": 33,
   "id": "183802f4",
   "metadata": {},
   "outputs": [
    {
     "name": "stdout",
     "output_type": "stream",
     "text": [
      "Name\tAge\tCountry\tCity\n",
      "Miku\t2\tUK\tBournemouth\n"
     ]
    }
   ],
   "source": [
    "print('Name\\tAge\\tCountry\\tCity')\n",
    "print('Miku\\t2\\tUK\\tBournemouth')"
   ]
  },
  {
   "cell_type": "markdown",
   "id": "49e51d19",
   "metadata": {},
   "source": [
    "33. Use the string formatting method to display the following:"
   ]
  },
  {
   "cell_type": "code",
   "execution_count": 34,
   "id": "9f7d6edd",
   "metadata": {},
   "outputs": [
    {
     "name": "stdout",
     "output_type": "stream",
     "text": [
      "The area of a circle with radius 10 is 314.0 meters square\n"
     ]
    }
   ],
   "source": [
    "radius = 10\n",
    "area = 3.14 * radius ** 2\n",
    "print('The area of a circle with radius {} is {} meters square'.format(radius,area))"
   ]
  },
  {
   "cell_type": "markdown",
   "id": "21addbb9",
   "metadata": {},
   "source": [
    "34. Make the following using string formatting methods:"
   ]
  },
  {
   "cell_type": "code",
   "execution_count": 37,
   "id": "f391b8cb",
   "metadata": {},
   "outputs": [
    {
     "name": "stdout",
     "output_type": "stream",
     "text": [
      "8 + 6 = 14\n",
      "8 - 6 = 2\n",
      "8 * 6 = 48\n",
      "8 / 6 = 1.33\n",
      "8 % 6 = 2\n",
      "8 // 6 = 1\n",
      "8 ** 6 = 262144\n"
     ]
    }
   ],
   "source": [
    "a = 8\n",
    "b = 6\n",
    "print('{} + {} = {}'.format(a, b, a + b))\n",
    "print('{} - {} = {}'.format(a, b, a - b))\n",
    "print('{} * {} = {}'.format(a, b, a * b))\n",
    "print('{} / {} = {:.2f}'.format(a, b, a / b))\n",
    "print('{} % {} = {}'.format(a, b, a % b))\n",
    "print('{} // {} = {}'.format(a, b, a // b))\n",
    "print('{} ** {} = {}'.format(a, b, a ** b))"
   ]
  },
  {
   "cell_type": "code",
   "execution_count": 39,
   "id": "ef10e9c3",
   "metadata": {},
   "outputs": [
    {
     "name": "stdout",
     "output_type": "stream",
     "text": [
      "8 + 6 = 14\n",
      "8 / 6 = 1.33\n"
     ]
    }
   ],
   "source": [
    "print(f'{a} + {b} = {a + b}')\n",
    "print(f'{a} / {b} = {a / b:.2f}')"
   ]
  },
  {
   "cell_type": "code",
   "execution_count": null,
   "id": "03565291",
   "metadata": {},
   "outputs": [],
   "source": []
  }
 ],
 "metadata": {
  "kernelspec": {
   "display_name": "Python 3 (ipykernel)",
   "language": "python",
   "name": "python3"
  },
  "language_info": {
   "codemirror_mode": {
    "name": "ipython",
    "version": 3
   },
   "file_extension": ".py",
   "mimetype": "text/x-python",
   "name": "python",
   "nbconvert_exporter": "python",
   "pygments_lexer": "ipython3",
   "version": "3.10.9"
  }
 },
 "nbformat": 4,
 "nbformat_minor": 5
}
